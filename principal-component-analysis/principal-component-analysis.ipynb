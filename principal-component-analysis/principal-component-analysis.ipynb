{
 "cells": [
  {
   "cell_type": "markdown",
   "metadata": {},
   "source": [
    "# Principal Component Analysis (PCA)"
   ]
  },
  {
   "cell_type": "markdown",
   "metadata": {},
   "source": [
    "<table><tr><td bgcolor=lightyellow>The objective of PCA is to reduce problems with high dimensionality to a problem with lower dimentionality. To do this, one can simply drop components which are less important to the problem, but that would ignore the information from those components which is undesirable. Instead, one can make a set of new components which is weighed by the significance of the original components. This also reduces the dimesionality of the problem, but loses less information."
   ]
  },
  {
   "cell_type": "markdown",
   "metadata": {},
   "source": [
    "## Example 1"
   ]
  },
  {
   "cell_type": "markdown",
   "metadata": {},
   "source": [
    "<table><tr><td bgcolor=lightyellow>Data source:https://archive.ics.uci.edu/ml/datasets/Wine\n",
    "<br>These data are the results of a chemical analysis of wines grown in the same region in Italy."
   ]
  },
  {
   "cell_type": "markdown",
   "metadata": {},
   "source": [
    "### Data Import"
   ]
  },
  {
   "cell_type": "markdown",
   "metadata": {},
   "source": [
    "<table><tr><td bgcolor=lightyellow>Like all other machine learning tasks, the first step is to import the data."
   ]
  },
  {
   "cell_type": "code",
   "execution_count": 1,
   "metadata": {
    "jupyter": {
     "outputs_hidden": false
    },
    "scrolled": true
   },
   "outputs": [
    {
     "name": "stdout",
     "output_type": "stream",
     "text": [
      "     Type  Alcohol  Malic-Acid   Ash  Alcalinity  Magnesium  Total-Phenols  \\\n",
      "0       1    14.23        1.71  2.43        15.6        127           2.80   \n",
      "1       1    13.20        1.78  2.14        11.2        100           2.65   \n",
      "2       1    13.16        2.36  2.67        18.6        101           2.80   \n",
      "3       1    14.37        1.95  2.50        16.8        113           3.85   \n",
      "4       1    13.24        2.59  2.87        21.0        118           2.80   \n",
      "5       1    14.20        1.76  2.45        15.2        112           3.27   \n",
      "6       1    14.39        1.87  2.45        14.6         96           2.50   \n",
      "7       1    14.06        2.15  2.61        17.6        121           2.60   \n",
      "8       1    14.83        1.64  2.17        14.0         97           2.80   \n",
      "9       1    13.86        1.35  2.27        16.0         98           2.98   \n",
      "10      1    14.10        2.16  2.30        18.0        105           2.95   \n",
      "11      1    14.12        1.48  2.32        16.8         95           2.20   \n",
      "12      1    13.75        1.73  2.41        16.0         89           2.60   \n",
      "13      1    14.75        1.73  2.39        11.4         91           3.10   \n",
      "14      1    14.38        1.87  2.38        12.0        102           3.30   \n",
      "15      1    13.63        1.81  2.70        17.2        112           2.85   \n",
      "16      1    14.30        1.92  2.72        20.0        120           2.80   \n",
      "17      1    13.83        1.57  2.62        20.0        115           2.95   \n",
      "18      1    14.19        1.59  2.48        16.5        108           3.30   \n",
      "19      1    13.64        3.10  2.56        15.2        116           2.70   \n",
      "20      1    14.06        1.63  2.28        16.0        126           3.00   \n",
      "21      1    12.93        3.80  2.65        18.6        102           2.41   \n",
      "22      1    13.71        1.86  2.36        16.6        101           2.61   \n",
      "23      1    12.85        1.60  2.52        17.8         95           2.48   \n",
      "24      1    13.50        1.81  2.61        20.0         96           2.53   \n",
      "25      1    13.05        2.05  3.22        25.0        124           2.63   \n",
      "26      1    13.39        1.77  2.62        16.1         93           2.85   \n",
      "27      1    13.30        1.72  2.14        17.0         94           2.40   \n",
      "28      1    13.87        1.90  2.80        19.4        107           2.95   \n",
      "29      1    14.02        1.68  2.21        16.0         96           2.65   \n",
      "..    ...      ...         ...   ...         ...        ...            ...   \n",
      "148     3    13.32        3.24  2.38        21.5         92           1.93   \n",
      "149     3    13.08        3.90  2.36        21.5        113           1.41   \n",
      "150     3    13.50        3.12  2.62        24.0        123           1.40   \n",
      "151     3    12.79        2.67  2.48        22.0        112           1.48   \n",
      "152     3    13.11        1.90  2.75        25.5        116           2.20   \n",
      "153     3    13.23        3.30  2.28        18.5         98           1.80   \n",
      "154     3    12.58        1.29  2.10        20.0        103           1.48   \n",
      "155     3    13.17        5.19  2.32        22.0         93           1.74   \n",
      "156     3    13.84        4.12  2.38        19.5         89           1.80   \n",
      "157     3    12.45        3.03  2.64        27.0         97           1.90   \n",
      "158     3    14.34        1.68  2.70        25.0         98           2.80   \n",
      "159     3    13.48        1.67  2.64        22.5         89           2.60   \n",
      "160     3    12.36        3.83  2.38        21.0         88           2.30   \n",
      "161     3    13.69        3.26  2.54        20.0        107           1.83   \n",
      "162     3    12.85        3.27  2.58        22.0        106           1.65   \n",
      "163     3    12.96        3.45  2.35        18.5        106           1.39   \n",
      "164     3    13.78        2.76  2.30        22.0         90           1.35   \n",
      "165     3    13.73        4.36  2.26        22.5         88           1.28   \n",
      "166     3    13.45        3.70  2.60        23.0        111           1.70   \n",
      "167     3    12.82        3.37  2.30        19.5         88           1.48   \n",
      "168     3    13.58        2.58  2.69        24.5        105           1.55   \n",
      "169     3    13.40        4.60  2.86        25.0        112           1.98   \n",
      "170     3    12.20        3.03  2.32        19.0         96           1.25   \n",
      "171     3    12.77        2.39  2.28        19.5         86           1.39   \n",
      "172     3    14.16        2.51  2.48        20.0         91           1.68   \n",
      "173     3    13.71        5.65  2.45        20.5         95           1.68   \n",
      "174     3    13.40        3.91  2.48        23.0        102           1.80   \n",
      "175     3    13.27        4.28  2.26        20.0        120           1.59   \n",
      "176     3    13.17        2.59  2.37        20.0        120           1.65   \n",
      "177     3    14.13        4.10  2.74        24.5         96           2.05   \n",
      "\n",
      "     Flavanoids  Nonflavanoid-phenols  Proanthocyanins  Color-Intensity   Hue  \\\n",
      "0          3.06                  0.28             2.29         5.640000  1.04   \n",
      "1          2.76                  0.26             1.28         4.380000  1.05   \n",
      "2          3.24                  0.30             2.81         5.680000  1.03   \n",
      "3          3.49                  0.24             2.18         7.800000  0.86   \n",
      "4          2.69                  0.39             1.82         4.320000  1.04   \n",
      "5          3.39                  0.34             1.97         6.750000  1.05   \n",
      "6          2.52                  0.30             1.98         5.250000  1.02   \n",
      "7          2.51                  0.31             1.25         5.050000  1.06   \n",
      "8          2.98                  0.29             1.98         5.200000  1.08   \n",
      "9          3.15                  0.22             1.85         7.220000  1.01   \n",
      "10         3.32                  0.22             2.38         5.750000  1.25   \n",
      "11         2.43                  0.26             1.57         5.000000  1.17   \n",
      "12         2.76                  0.29             1.81         5.600000  1.15   \n",
      "13         3.69                  0.43             2.81         5.400000  1.25   \n",
      "14         3.64                  0.29             2.96         7.500000  1.20   \n",
      "15         2.91                  0.30             1.46         7.300000  1.28   \n",
      "16         3.14                  0.33             1.97         6.200000  1.07   \n",
      "17         3.40                  0.40             1.72         6.600000  1.13   \n",
      "18         3.93                  0.32             1.86         8.700000  1.23   \n",
      "19         3.03                  0.17             1.66         5.100000  0.96   \n",
      "20         3.17                  0.24             2.10         5.650000  1.09   \n",
      "21         2.41                  0.25             1.98         4.500000  1.03   \n",
      "22         2.88                  0.27             1.69         3.800000  1.11   \n",
      "23         2.37                  0.26             1.46         3.930000  1.09   \n",
      "24         2.61                  0.28             1.66         3.520000  1.12   \n",
      "25         2.68                  0.47             1.92         3.580000  1.13   \n",
      "26         2.94                  0.34             1.45         4.800000  0.92   \n",
      "27         2.19                  0.27             1.35         3.950000  1.02   \n",
      "28         2.97                  0.37             1.76         4.500000  1.25   \n",
      "29         2.33                  0.26             1.98         4.700000  1.04   \n",
      "..          ...                   ...              ...              ...   ...   \n",
      "148        0.76                  0.45             1.25         8.420000  0.55   \n",
      "149        1.39                  0.34             1.14         9.400000  0.57   \n",
      "150        1.57                  0.22             1.25         8.600000  0.59   \n",
      "151        1.36                  0.24             1.26        10.800000  0.48   \n",
      "152        1.28                  0.26             1.56         7.100000  0.61   \n",
      "153        0.83                  0.61             1.87        10.520000  0.56   \n",
      "154        0.58                  0.53             1.40         7.600000  0.58   \n",
      "155        0.63                  0.61             1.55         7.900000  0.60   \n",
      "156        0.83                  0.48             1.56         9.010000  0.57   \n",
      "157        0.58                  0.63             1.14         7.500000  0.67   \n",
      "158        1.31                  0.53             2.70        13.000000  0.57   \n",
      "159        1.10                  0.52             2.29        11.750000  0.57   \n",
      "160        0.92                  0.50             1.04         7.650000  0.56   \n",
      "161        0.56                  0.50             0.80         5.880000  0.96   \n",
      "162        0.60                  0.60             0.96         5.580000  0.87   \n",
      "163        0.70                  0.40             0.94         5.280000  0.68   \n",
      "164        0.68                  0.41             1.03         9.580000  0.70   \n",
      "165        0.47                  0.52             1.15         6.620000  0.78   \n",
      "166        0.92                  0.43             1.46        10.680000  0.85   \n",
      "167        0.66                  0.40             0.97        10.260000  0.72   \n",
      "168        0.84                  0.39             1.54         8.660000  0.74   \n",
      "169        0.96                  0.27             1.11         8.500000  0.67   \n",
      "170        0.49                  0.40             0.73         5.500000  0.66   \n",
      "171        0.51                  0.48             0.64         9.899999  0.57   \n",
      "172        0.70                  0.44             1.24         9.700000  0.62   \n",
      "173        0.61                  0.52             1.06         7.700000  0.64   \n",
      "174        0.75                  0.43             1.41         7.300000  0.70   \n",
      "175        0.69                  0.43             1.35        10.200000  0.59   \n",
      "176        0.68                  0.53             1.46         9.300000  0.60   \n",
      "177        0.76                  0.56             1.35         9.200000  0.61   \n",
      "\n",
      "     OD280/OD315  Proline  \n",
      "0           3.92     1065  \n",
      "1           3.40     1050  \n",
      "2           3.17     1185  \n",
      "3           3.45     1480  \n",
      "4           2.93      735  \n",
      "5           2.85     1450  \n",
      "6           3.58     1290  \n",
      "7           3.58     1295  \n",
      "8           2.85     1045  \n",
      "9           3.55     1045  \n",
      "10          3.17     1510  \n",
      "11          2.82     1280  \n",
      "12          2.90     1320  \n",
      "13          2.73     1150  \n",
      "14          3.00     1547  \n",
      "15          2.88     1310  \n",
      "16          2.65     1280  \n",
      "17          2.57     1130  \n",
      "18          2.82     1680  \n",
      "19          3.36      845  \n",
      "20          3.71      780  \n",
      "21          3.52      770  \n",
      "22          4.00     1035  \n",
      "23          3.63     1015  \n",
      "24          3.82      845  \n",
      "25          3.20      830  \n",
      "26          3.22     1195  \n",
      "27          2.77     1285  \n",
      "28          3.40      915  \n",
      "29          3.59     1035  \n",
      "..           ...      ...  \n",
      "148         1.62      650  \n",
      "149         1.33      550  \n",
      "150         1.30      500  \n",
      "151         1.47      480  \n",
      "152         1.33      425  \n",
      "153         1.51      675  \n",
      "154         1.55      640  \n",
      "155         1.48      725  \n",
      "156         1.64      480  \n",
      "157         1.73      880  \n",
      "158         1.96      660  \n",
      "159         1.78      620  \n",
      "160         1.58      520  \n",
      "161         1.82      680  \n",
      "162         2.11      570  \n",
      "163         1.75      675  \n",
      "164         1.68      615  \n",
      "165         1.75      520  \n",
      "166         1.56      695  \n",
      "167         1.75      685  \n",
      "168         1.80      750  \n",
      "169         1.92      630  \n",
      "170         1.83      510  \n",
      "171         1.63      470  \n",
      "172         1.71      660  \n",
      "173         1.74      740  \n",
      "174         1.56      750  \n",
      "175         1.56      835  \n",
      "176         1.62      840  \n",
      "177         1.60      560  \n",
      "\n",
      "[178 rows x 14 columns]\n"
     ]
    }
   ],
   "source": [
    "import pandas as pd\n",
    "from pandas import DataFrame\n",
    "import matplotlib.pyplot as plt  \n",
    "#df = pd.read_csv(\"asset/csv/wine.csv\", sep=\",\")\n",
    "df = pd.read_csv(\"principal-component-analysis-example-1.csv\", sep=\",\")\n",
    "\n",
    "print (df)"
   ]
  },
  {
   "cell_type": "markdown",
   "metadata": {},
   "source": [
    "<table><tr><td bgcolor=lightyellow>Since PCA only deals with the 'X' component of the data, the 'y' component can be set aside since it is not important for PCA."
   ]
  },
  {
   "cell_type": "code",
   "execution_count": 2,
   "metadata": {
    "jupyter": {
     "outputs_hidden": false
    }
   },
   "outputs": [],
   "source": [
    "X = df.drop(columns=['Type'])\n",
    "y = df['Type']"
   ]
  },
  {
   "cell_type": "markdown",
   "metadata": {},
   "source": [
    "### Data Preprocessing"
   ]
  },
  {
   "cell_type": "markdown",
   "metadata": {},
   "source": [
    "<table><tr><td bgcolor=lightyellow>Before applying PCA, one must do data preprocessing: normalization and feature scaling."
   ]
  },
  {
   "cell_type": "code",
   "execution_count": 3,
   "metadata": {
    "jupyter": {
     "outputs_hidden": false
    }
   },
   "outputs": [
    {
     "name": "stdout",
     "output_type": "stream",
     "text": [
      "(178, 13)\n",
      "RobustScaler(copy=True, quantile_range=(25.0, 75.0), with_centering=True,\n",
      "       with_scaling=True)\n"
     ]
    }
   ],
   "source": [
    "from sklearn import preprocessing\n",
    "scaler = preprocessing.RobustScaler()\n",
    "X_scaled = scaler.fit_transform(X)\n",
    "X_scaled = pd.DataFrame(X_scaled,columns=list(X.columns.values))\n",
    "print(X_scaled.shape)\n",
    "print(scaler)"
   ]
  },
  {
   "cell_type": "code",
   "execution_count": 4,
   "metadata": {
    "jupyter": {
     "outputs_hidden": false
    }
   },
   "outputs": [],
   "source": [
    "X = X_scaled"
   ]
  },
  {
   "cell_type": "markdown",
   "metadata": {},
   "source": [
    "### PCA Implementation"
   ]
  },
  {
   "cell_type": "markdown",
   "metadata": {},
   "source": [
    "<table><tr><td bgcolor=lightyellow>In this example, we just use PCA from sklearn package."
   ]
  },
  {
   "cell_type": "markdown",
   "metadata": {},
   "source": [
    "<table><tr><td bgcolor=lightyellow>For demonstration, take that this data can be adequately represented with only 3 dimensions, which is probably not the case, but 3 dimensions make it easy to plot."
   ]
  },
  {
   "cell_type": "code",
   "execution_count": 5,
   "metadata": {
    "jupyter": {
     "outputs_hidden": false
    }
   },
   "outputs": [],
   "source": [
    "from sklearn.decomposition import PCA\n",
    "pca = PCA(n_components=3)\n",
    "principalComponents = pca.fit_transform(X)\n",
    "principalX = pd.DataFrame(data = principalComponents, columns = ['principal component 1', 'principal component 2','principal component 3'])\n",
    "finalX = pd.concat([principalX, y], axis = 1)"
   ]
  },
  {
   "cell_type": "code",
   "execution_count": 6,
   "metadata": {
    "jupyter": {
     "outputs_hidden": false
    }
   },
   "outputs": [
    {
     "data": {
      "text/plain": [
       "array([0.32853032, 0.19681405, 0.12684328])"
      ]
     },
     "execution_count": 6,
     "metadata": {},
     "output_type": "execute_result"
    }
   ],
   "source": [
    "pca.explained_variance_ratio_"
   ]
  },
  {
   "cell_type": "markdown",
   "metadata": {},
   "source": [
    "<table><tr><td bgcolor=lightyellow>Since usually we don't wanna lose so much information when we reduce dimension, so we see how well the information is kept in the dimension reduction by looking at the variance_riatio, which means percentage of variance explained by each of the selected components. The larger the ratio is, the more important is the component.\n",
    "\n",
    "<br>Then, we look at the total variance kept."
   ]
  },
  {
   "cell_type": "code",
   "execution_count": 7,
   "metadata": {
    "jupyter": {
     "outputs_hidden": false
    }
   },
   "outputs": [
    {
     "name": "stdout",
     "output_type": "stream",
     "text": [
      "In this case, the total variance preserved is 65.21876534446805 % of the original dataset\n"
     ]
    }
   ],
   "source": [
    "import numpy as np\n",
    "print('In this case, the total variance preserved is', 100*np.sum(pca.explained_variance_ratio_),'% of the original dataset')"
   ]
  },
  {
   "cell_type": "markdown",
   "metadata": {},
   "source": [
    "<table><tr><td bgcolor=lightyellow>As one can imagine, reducing your data from 13 columns down to 3 can be pretty bad in terms of information loss."
   ]
  },
  {
   "cell_type": "markdown",
   "metadata": {},
   "source": [
    "<table><tr><td bgcolor=lightyellow>As is our purpose, we plot our dimensionally reduced data."
   ]
  },
  {
   "cell_type": "code",
   "execution_count": 8,
   "metadata": {
    "jupyter": {
     "outputs_hidden": false
    }
   },
   "outputs": [
    {
     "data": {
      "image/png": "[encoded data removed]",
      "text/plain": [
       "<Figure size 432x288 with 1 Axes>"
      ]
     },
     "metadata": {
      "needs_background": "light"
     },
     "output_type": "display_data"
    }
   ],
   "source": [
    "from mpl_toolkits.mplot3d import Axes3D\n",
    "import matplotlib.pyplot as plt\n",
    "fig=plt.figure()\n",
    "ax = Axes3D(fig)\n",
    "\n",
    "x =principalX['principal component 1']\n",
    "y =principalX['principal component 2']\n",
    "z =principalX['principal component 3']\n",
    "\n",
    "ax.scatter(x, y, z, c='r', marker='o')\n",
    "ax.set_title('Principal Components')\n",
    "ax.set_xlabel('principal component 1')\n",
    "ax.set_ylabel('principal component 2')\n",
    "ax.set_zlabel('principal component 3')\n",
    "\n",
    "plt.show()"
   ]
  },
  {
   "cell_type": "markdown",
   "metadata": {},
   "source": [
    "<table><tr><td bgcolor=lightyellow>Next, since the variance is largely lost in the trial above, let's try a less aggressive reduction of 13 dimensions to 10."
   ]
  },
  {
   "cell_type": "code",
   "execution_count": 9,
   "metadata": {
    "jupyter": {
     "outputs_hidden": false
    }
   },
   "outputs": [
    {
     "data": {
      "text/plain": [
       "array([0.32853032, 0.19681405, 0.12684328, 0.07788489, 0.06968107,\n",
       "       0.05607506, 0.04809657, 0.02541638, 0.02091117, 0.01754752])"
      ]
     },
     "execution_count": 9,
     "metadata": {},
     "output_type": "execute_result"
    }
   ],
   "source": [
    "pca = PCA(n_components=10)\n",
    "principalComponents = pca.fit_transform(X)\n",
    "principalX = pd.DataFrame(data = principalComponents, columns = ['principal component 1', 'principal component 2','principal component 3', 'principal component 4', 'principal component 5', 'principal component 6', 'principal component 7', 'principal component 8', 'principal component 9', 'principal component 10'])\n",
    "finalX = pd.concat([principalX, y], axis = 1)\n",
    "pca.explained_variance_ratio_"
   ]
  },
  {
   "cell_type": "code",
   "execution_count": 10,
   "metadata": {
    "jupyter": {
     "outputs_hidden": false
    }
   },
   "outputs": [
    {
     "name": "stdout",
     "output_type": "stream",
     "text": [
      "In this case, the total variance preserved is 96.78003160463807 % of the original dataset\n"
     ]
    }
   ],
   "source": [
    "print('In this case, the total variance preserved is', 100*np.sum(pca.explained_variance_ratio_),'% of the original dataset')"
   ]
  },
  {
   "cell_type": "markdown",
   "metadata": {},
   "source": [
    "<table><tr><td bgcolor=lightyellow>This reduction is much better in terms of data loss because it reduces the dataloss to less than 3.5% of the original variance. "
   ]
  },
  {
   "cell_type": "markdown",
   "metadata": {},
   "source": [
    "<table><tr><td bgcolor=lightyellow>In principal-component-analysis, we need to choose the number of principal components ourselves and information loss is always important for us to consider, so that we can plot the correspondence between the variance kept and the dimension to which the initial data is reduced."
   ]
  },
  {
   "cell_type": "code",
   "execution_count": 11,
   "metadata": {
    "jupyter": {
     "outputs_hidden": false
    }
   },
   "outputs": [],
   "source": [
    "dimensions = []\n",
    "variance = []\n",
    "for i in range(13):\n",
    "    pca = PCA(n_components=i)\n",
    "    principalComponents = pca.fit_transform(X)\n",
    "    principalX = pd.DataFrame(data = principalComponents)\n",
    "    ratio = np.sum(pca.explained_variance_ratio_)\n",
    "    dimensions.append(i)\n",
    "    variance.append(ratio)"
   ]
  },
  {
   "cell_type": "code",
   "execution_count": 12,
   "metadata": {
    "jupyter": {
     "outputs_hidden": false
    }
   },
   "outputs": [
    {
     "data": {
      "text/plain": [
       "Text(0.5, 1.0, 'Dimensions vs variance')"
      ]
     },
     "execution_count": 12,
     "metadata": {},
     "output_type": "execute_result"
    },
    {
     "data": {
      "image/png": "[encoded data removed]",
      "text/plain": [
       "<Figure size 432x288 with 1 Axes>"
      ]
     },
     "metadata": {
      "needs_background": "light"
     },
     "output_type": "display_data"
    }
   ],
   "source": [
    "plt.plot(dimensions,variance,marker='o',ls='--')\n",
    "plt.xlabel(\"Dimensions\")\n",
    "plt.ylabel(\"Variance\")\n",
    "plt.title(\"Dimensions vs variance\")"
   ]
  },
  {
   "cell_type": "markdown",
   "metadata": {},
   "source": [
    "<table><tr><td bgcolor=lightyellow>As you can see, pca represents a trade-off between information kept (variance) and computational complexity (dimensions). You can either keep most of the variance in your data, but your computations (such as regression) take very long to run. But if you choose to use much fewer dimensions, the variance in your data will decrease."
   ]
  },
  {
   "cell_type": "markdown",
   "metadata": {},
   "source": [
    "<table><tr><td bgcolor=lightyellow>When we are tring to find the correspondence of variance and dimensions, we can also set the minimum variance of the principal components and then get the proper dimension, using the same function."
   ]
  },
  {
   "cell_type": "code",
   "execution_count": 13,
   "metadata": {
    "jupyter": {
     "outputs_hidden": false
    }
   },
   "outputs": [
    {
     "name": "stdout",
     "output_type": "stream",
     "text": [
      "[0.32853032 0.19681405 0.12684328 0.07788489 0.06968107 0.05607506\n",
      " 0.04809657 0.02541638 0.02091117 0.01754752 0.01609249]\n",
      "Dimensions should be: 11\n"
     ]
    }
   ],
   "source": [
    "pca = PCA(n_components=0.98)\n",
    "pca.fit(X)\n",
    "print (pca.explained_variance_ratio_)\n",
    "print ('Dimensions should be:',pca.n_components_)"
   ]
  },
  {
   "cell_type": "markdown",
   "metadata": {},
   "source": [
    "## Example 2"
   ]
  },
  {
   "cell_type": "markdown",
   "metadata": {},
   "source": [
    "<table><tr><td bgcolor=lightyellow>As with all previous notebooks, the second example uses an algorithm written from scratch (as opposed to sklearn) to better unpack the mechanism behind."
   ]
  },
  {
   "cell_type": "markdown",
   "metadata": {},
   "source": [
    "<table><tr><td bgcolor=lightyellow>Data source:https://archive.ics.uci.edu/ml/datasets/breast+cancer+wisconsin+%28original%29\n",
    "<br>Samples arrive periodically as Dr. Wolberg reports his clinical cases. The database therefore reflects this chronological grouping of the data.\n",
    "    \n",
    " <br>First, import the data and have a look."
   ]
  },
  {
   "cell_type": "markdown",
   "metadata": {},
   "source": [
    "### Data Preparation"
   ]
  },
  {
   "cell_type": "code",
   "execution_count": 14,
   "metadata": {
    "jupyter": {
     "outputs_hidden": false
    },
    "scrolled": true
   },
   "outputs": [
    {
     "name": "stdout",
     "output_type": "stream",
     "text": [
      "          id  thickness  cell-size  cell-shape  marginal-adhesion  \\\n",
      "0    1000025          5          1           1                  1   \n",
      "1    1002945          5          4           4                  5   \n",
      "2    1015425          3          1           1                  1   \n",
      "3    1016277          6          8           8                  1   \n",
      "4    1017023          4          1           1                  3   \n",
      "5    1017122          8         10          10                  8   \n",
      "6    1018099          1          1           1                  1   \n",
      "7    1018561          2          1           2                  1   \n",
      "8    1033078          2          1           1                  1   \n",
      "9    1033078          4          2           1                  1   \n",
      "10   1035283          1          1           1                  1   \n",
      "11   1036172          2          1           1                  1   \n",
      "12   1041801          5          3           3                  3   \n",
      "13   1043999          1          1           1                  1   \n",
      "14   1044572          8          7           5                 10   \n",
      "15   1047630          7          4           6                  4   \n",
      "16   1048672          4          1           1                  1   \n",
      "17   1049815          4          1           1                  1   \n",
      "18   1050670         10          7           7                  6   \n",
      "19   1050718          6          1           1                  1   \n",
      "20   1054590          7          3           2                 10   \n",
      "21   1054593         10          5           5                  3   \n",
      "22   1056784          3          1           1                  1   \n",
      "23   1057013          8          4           5                  1   \n",
      "24   1059552          1          1           1                  1   \n",
      "25   1065726          5          2           3                  4   \n",
      "26   1066373          3          2           1                  1   \n",
      "27   1066979          5          1           1                  1   \n",
      "28   1067444          2          1           1                  1   \n",
      "29   1070935          1          1           3                  1   \n",
      "..       ...        ...        ...         ...                ...   \n",
      "669  1350423          5         10          10                  8   \n",
      "670  1352848          3         10           7                  8   \n",
      "671  1353092          3          2           1                  2   \n",
      "672  1354840          2          1           1                  1   \n",
      "673  1354840          5          3           2                  1   \n",
      "674  1355260          1          1           1                  1   \n",
      "675  1365075          4          1           4                  1   \n",
      "676  1365328          1          1           2                  1   \n",
      "677  1368267          5          1           1                  1   \n",
      "678  1368273          1          1           1                  1   \n",
      "679  1368882          2          1           1                  1   \n",
      "680  1369821         10         10          10                 10   \n",
      "681  1371026          5         10          10                 10   \n",
      "682  1371920          5          1           1                  1   \n",
      "683   466906          1          1           1                  1   \n",
      "684   466906          1          1           1                  1   \n",
      "685   534555          1          1           1                  1   \n",
      "686   536708          1          1           1                  1   \n",
      "687   566346          3          1           1                  1   \n",
      "688   603148          4          1           1                  1   \n",
      "689   654546          1          1           1                  1   \n",
      "690   654546          1          1           1                  3   \n",
      "691   695091          5         10          10                  5   \n",
      "692   714039          3          1           1                  1   \n",
      "693   763235          3          1           1                  1   \n",
      "694   776715          3          1           1                  1   \n",
      "695   841769          2          1           1                  1   \n",
      "696   888820          5         10          10                  3   \n",
      "697   897471          4          8           6                  4   \n",
      "698   897471          4          8           8                  5   \n",
      "\n",
      "     single-cell-size bare-nuclei  bland-chromatin  normal-nucleoli  mitoses  \\\n",
      "0                   2           1                3                1        1   \n",
      "1                   7          10                3                2        1   \n",
      "2                   2           2                3                1        1   \n",
      "3                   3           4                3                7        1   \n",
      "4                   2           1                3                1        1   \n",
      "5                   7          10                9                7        1   \n",
      "6                   2          10                3                1        1   \n",
      "7                   2           1                3                1        1   \n",
      "8                   2           1                1                1        5   \n",
      "9                   2           1                2                1        1   \n",
      "10                  1           1                3                1        1   \n",
      "11                  2           1                2                1        1   \n",
      "12                  2           3                4                4        1   \n",
      "13                  2           3                3                1        1   \n",
      "14                  7           9                5                5        4   \n",
      "15                  6           1                4                3        1   \n",
      "16                  2           1                2                1        1   \n",
      "17                  2           1                3                1        1   \n",
      "18                  4          10                4                1        2   \n",
      "19                  2           1                3                1        1   \n",
      "20                  5          10                5                4        4   \n",
      "21                  6           7                7               10        1   \n",
      "22                  2           1                2                1        1   \n",
      "23                  2           ?                7                3        1   \n",
      "24                  2           1                3                1        1   \n",
      "25                  2           7                3                6        1   \n",
      "26                  1           1                2                1        1   \n",
      "27                  2           1                2                1        1   \n",
      "28                  2           1                2                1        1   \n",
      "29                  2           1                1                1        1   \n",
      "..                ...         ...              ...              ...      ...   \n",
      "669                 5           5                7               10        1   \n",
      "670                 5           8                7                4        1   \n",
      "671                 2           1                3                1        1   \n",
      "672                 2           1                3                1        1   \n",
      "673                 3           1                1                1        1   \n",
      "674                 2           1                2                1        1   \n",
      "675                 2           1                1                1        1   \n",
      "676                 2           1                2                1        1   \n",
      "677                 2           1                1                1        1   \n",
      "678                 2           1                1                1        1   \n",
      "679                 2           1                1                1        1   \n",
      "680                 5          10               10               10        7   \n",
      "681                 4          10                5                6        3   \n",
      "682                 2           1                3                2        1   \n",
      "683                 2           1                1                1        1   \n",
      "684                 2           1                1                1        1   \n",
      "685                 2           1                1                1        1   \n",
      "686                 2           1                1                1        1   \n",
      "687                 2           1                2                3        1   \n",
      "688                 2           1                1                1        1   \n",
      "689                 2           1                1                1        8   \n",
      "690                 2           1                1                1        1   \n",
      "691                 4           5                4                4        1   \n",
      "692                 2           1                1                1        1   \n",
      "693                 2           1                2                1        2   \n",
      "694                 3           2                1                1        1   \n",
      "695                 2           1                1                1        1   \n",
      "696                 7           3                8               10        2   \n",
      "697                 3           4               10                6        1   \n",
      "698                 4           5               10                4        1   \n",
      "\n",
      "     class  \n",
      "0        2  \n",
      "1        2  \n",
      "2        2  \n",
      "3        2  \n",
      "4        2  \n",
      "5        4  \n",
      "6        2  \n",
      "7        2  \n",
      "8        2  \n",
      "9        2  \n",
      "10       2  \n",
      "11       2  \n",
      "12       4  \n",
      "13       2  \n",
      "14       4  \n",
      "15       4  \n",
      "16       2  \n",
      "17       2  \n",
      "18       4  \n",
      "19       2  \n",
      "20       4  \n",
      "21       4  \n",
      "22       2  \n",
      "23       4  \n",
      "24       2  \n",
      "25       4  \n",
      "26       2  \n",
      "27       2  \n",
      "28       2  \n",
      "29       2  \n",
      "..     ...  \n",
      "669      4  \n",
      "670      4  \n",
      "671      2  \n",
      "672      2  \n",
      "673      2  \n",
      "674      2  \n",
      "675      2  \n",
      "676      2  \n",
      "677      2  \n",
      "678      2  \n",
      "679      2  \n",
      "680      4  \n",
      "681      4  \n",
      "682      2  \n",
      "683      2  \n",
      "684      2  \n",
      "685      2  \n",
      "686      2  \n",
      "687      2  \n",
      "688      2  \n",
      "689      2  \n",
      "690      2  \n",
      "691      4  \n",
      "692      2  \n",
      "693      2  \n",
      "694      2  \n",
      "695      2  \n",
      "696      4  \n",
      "697      4  \n",
      "698      4  \n",
      "\n",
      "[699 rows x 11 columns]\n"
     ]
    }
   ],
   "source": [
    "import pandas as pd\n",
    "from pandas import DataFrame\n",
    "import matplotlib.pyplot as plt  \n",
    "\n",
    "#df = pd.read_csv(\"asset/csv/breast-cancer-wisconsin.csv\", sep=\",\")\n",
    "df = pd.read_csv(\"principal-component-analysis-example-2.csv\", sep=\",\")\n",
    "\n",
    "print(df)"
   ]
  },
  {
   "cell_type": "markdown",
   "metadata": {},
   "source": [
    "<table><tr><td bgcolor=lightyellow>We notice that the first column is an id column, which is not relevant to our data, so we first remove it from the dataset."
   ]
  },
  {
   "cell_type": "code",
   "execution_count": 15,
   "metadata": {
    "jupyter": {
     "outputs_hidden": false
    }
   },
   "outputs": [],
   "source": [
    "df.drop(columns=['id'],inplace=True)"
   ]
  },
  {
   "cell_type": "markdown",
   "metadata": {},
   "source": [
    "<table><tr><td bgcolor=lightyellow>Now, in this dataset, the response value vector 'y' is actually called 'class', and represents whether the cancerous cell is malignant or benign."
   ]
  },
  {
   "cell_type": "code",
   "execution_count": 16,
   "metadata": {
    "jupyter": {
     "outputs_hidden": false
    }
   },
   "outputs": [],
   "source": [
    "X = df.drop(columns=['class'])\n",
    "y = df['class']"
   ]
  },
  {
   "cell_type": "markdown",
   "metadata": {},
   "source": [
    "<table><tr><td bgcolor=lightyellow>In this dataset, instead of having simple 'NaN' to deal with, all the unknown values are represented with '?', so to use the same implementation as in the logistic regression notebook, we must first replace all the '?' with 'NaN'."
   ]
  },
  {
   "cell_type": "code",
   "execution_count": 17,
   "metadata": {
    "jupyter": {
     "outputs_hidden": false
    },
    "scrolled": true
   },
   "outputs": [
    {
     "name": "stderr",
     "output_type": "stream",
     "text": [
      "c:\\工具\\python\\lib\\site-packages\\pandas\\core\\ops.py:1649: FutureWarning: elementwise comparison failed; returning scalar instead, but in the future will perform elementwise comparison\n",
      "  result = method(y)\n"
     ]
    }
   ],
   "source": [
    "X = np.where(X=='?', float('NaN'), X)"
   ]
  },
  {
   "cell_type": "markdown",
   "metadata": {},
   "source": [
    "<table><tr><td bgcolor=lightyellow>Then, we can use the same implementation to change all the NaN values into randomly selected values from the same column."
   ]
  },
  {
   "cell_type": "code",
   "execution_count": 18,
   "metadata": {
    "jupyter": {
     "outputs_hidden": false
    },
    "scrolled": true
   },
   "outputs": [],
   "source": [
    "import random \n",
    "X = pd.DataFrame(data = X, columns = df.drop(columns=['class']).columns.values)\n",
    "X = X.apply(lambda x: x.fillna(random.choice(x.dropna())), axis=1)"
   ]
  },
  {
   "cell_type": "markdown",
   "metadata": {},
   "source": [
    "<table><tr><td bgcolor=lightyellow> Before PCA, we need data preprocessing."
   ]
  },
  {
   "cell_type": "code",
   "execution_count": 19,
   "metadata": {
    "jupyter": {
     "outputs_hidden": false
    }
   },
   "outputs": [
    {
     "name": "stdout",
     "output_type": "stream",
     "text": [
      "(699, 9)\n",
      "RobustScaler(copy=True, quantile_range=(25.0, 75.0), with_centering=True,\n",
      "       with_scaling=True)\n"
     ]
    }
   ],
   "source": [
    "from sklearn import preprocessing\n",
    "scaler = preprocessing.RobustScaler()\n",
    "X_scaled = scaler.fit_transform(X)\n",
    "X_scaled = pd.DataFrame(X_scaled,columns=list(X.columns.values))\n",
    "print(X_scaled.shape)\n",
    "print(scaler)"
   ]
  },
  {
   "cell_type": "code",
   "execution_count": 20,
   "metadata": {
    "jupyter": {
     "outputs_hidden": false
    }
   },
   "outputs": [],
   "source": [
    "X = X_scaled"
   ]
  },
  {
   "cell_type": "markdown",
   "metadata": {},
   "source": [
    "### Covariance Matrix"
   ]
  },
  {
   "cell_type": "markdown",
   "metadata": {},
   "source": [
    "<table><tr><td bgcolor=lightyellow>The first step in PCA is establishing the covariance matrix of the design matrix."
   ]
  },
  {
   "cell_type": "code",
   "execution_count": 21,
   "metadata": {
    "jupyter": {
     "outputs_hidden": false
    }
   },
   "outputs": [],
   "source": [
    "cov = np.cov(X,rowvar=False)"
   ]
  },
  {
   "cell_type": "markdown",
   "metadata": {},
   "source": [
    "<table><tr><td bgcolor=lightyellow>Here, the cov function from the numpy package is used, functionally it is exactly the same as performing the operation 'manually' using the numpy matrix operations. A covariance matrix is the matrix $X^T X$. However it is slightly easier to simply use the numpy function since it reduces the step of having to convert the pandas dataframe into a numpy array. The covariance matrix shows whether the features are positively correlated (postive $C_{ij}$) or negatively correlated (negative $C_{ij}$). And since the features are regularized, it also shows how strongly correlated they are (The greater $|C_{ij}|$ is the more strongly correlated the features are.)"
   ]
  },
  {
   "cell_type": "markdown",
   "metadata": {},
   "source": [
    "### Singular Value Decomposition"
   ]
  },
  {
   "cell_type": "markdown",
   "metadata": {},
   "source": [
    "<table><tr><td bgcolor=lightyellow>After getting the covariance matrix, we want to get its eigenvectors.Here, we use svd.\n",
    "<br>For the svd here: $$covariance\\ matirx = U.S.V^*$$. <br>S is a diagonal matrix and U is a unitary matrix whose columns are exactly the u vectors we want.  Actually, u vectors signify the new planes to which we will project our data sample.<br> <br>Therefore, to reduce a system from n-dimensions to k-dimensions, just take the first k-vectors from U (first k columns)."
   ]
  },
  {
   "cell_type": "code",
   "execution_count": 22,
   "metadata": {
    "jupyter": {
     "outputs_hidden": false
    }
   },
   "outputs": [
    {
     "name": "stdout",
     "output_type": "stream",
     "text": [
      "[5.43350003 1.71771655 0.45020009 0.39549818 0.32526145 0.21526191\n",
      " 0.17441014 0.1609829  0.05057943]\n",
      "(9, 9)\n"
     ]
    }
   ],
   "source": [
    "from numpy import linalg as la\n",
    "U,sigma,VT=la.svd(cov)\n",
    "print(sigma)\n",
    "print(U.shape)\n",
    "#print(U)"
   ]
  },
  {
   "cell_type": "markdown",
   "metadata": {},
   "source": [
    "### Principal Components"
   ]
  },
  {
   "cell_type": "markdown",
   "metadata": {},
   "source": [
    "<table><tr><td bgcolor=lightyellow>To get the reduced system is to transform every x of example in design matrix X into z, which is: X_reduced=X.U_reduced (X: 699 x 9,U_reduced: 9 x Dimension, X_reduced: 699 x Dimension).\n",
    "<br>So we design a function here to get the reduced system and also show the ratio of information(variance) kept."
   ]
  },
  {
   "cell_type": "code",
   "execution_count": 23,
   "metadata": {
    "jupyter": {
     "outputs_hidden": false
    }
   },
   "outputs": [],
   "source": [
    "def reduce_system(U,dimension):\n",
    "    U_reduced=U[ : , :dimension]\n",
    "    reduced_vec=np.dot(X,U_reduced)\n",
    "    var=np.sum(sigma[:dimension])/np.sum(sigma[:])\n",
    "    return reduced_vec,var"
   ]
  },
  {
   "cell_type": "markdown",
   "metadata": {},
   "source": [
    "### Variance vs Reduced Dimension"
   ]
  },
  {
   "cell_type": "markdown",
   "metadata": {},
   "source": [
    "<table><tr><td bgcolor=lightyellow>Once again, we can plot the variance loss against the dimensions as in the first example."
   ]
  },
  {
   "cell_type": "code",
   "execution_count": 24,
   "metadata": {
    "jupyter": {
     "outputs_hidden": false
    }
   },
   "outputs": [],
   "source": [
    "dimensions = []\n",
    "variance = []\n",
    "for i in range(10):\n",
    "    reducevec, vari = reduce_system(U,i)\n",
    "    dimensions.append(i)\n",
    "    variance.append(vari)"
   ]
  },
  {
   "cell_type": "code",
   "execution_count": 25,
   "metadata": {
    "jupyter": {
     "outputs_hidden": false
    }
   },
   "outputs": [
    {
     "data": {
      "text/plain": [
       "Text(0.5, 1.0, 'Dimensions vs variance')"
      ]
     },
     "execution_count": 25,
     "metadata": {},
     "output_type": "execute_result"
    },
    {
     "data": {
      "image/png": "[encoded data removed]",
      "text/plain": [
       "<Figure size 432x288 with 1 Axes>"
      ]
     },
     "metadata": {
      "needs_background": "light"
     },
     "output_type": "display_data"
    }
   ],
   "source": [
    "plt.plot(dimensions,variance,marker='o',ls='--')\n",
    "plt.xlabel(\"Dimensions\")\n",
    "plt.ylabel(\"Variance\")\n",
    "plt.title(\"Dimensions vs variance\")"
   ]
  },
  {
   "cell_type": "markdown",
   "metadata": {},
   "source": [
    "<table><tr><td bgcolor=lightyellow>Now, because the total number of dimensions of this is lower, the curve is more jagged, but the inverse exponential curve is clear. In datasets with very large amounts of dimensions, using PCA can reduce a huge amount of dimensions without too much loss of information."
   ]
  },
  {
   "cell_type": "markdown",
   "metadata": {},
   "source": [
    "### Comparison with Initial Data"
   ]
  },
  {
   "cell_type": "markdown",
   "metadata": {},
   "source": [
    "<table><tr><td bgcolor=lightyellow>Since we have gone through all the trouble of doing principal component analysis, we should at least put the data through it's paces and see the effect of PCA. So we now compare doing SVM classification on both the un-PCA-ed data and the PCA-ed data."
   ]
  },
  {
   "cell_type": "markdown",
   "metadata": {},
   "source": [
    "<table><tr><td bgcolor=lightyellow>Firstly, we do svm using the complete dataset."
   ]
  },
  {
   "cell_type": "code",
   "execution_count": 26,
   "metadata": {
    "jupyter": {
     "outputs_hidden": false
    }
   },
   "outputs": [
    {
     "name": "stdout",
     "output_type": "stream",
     "text": [
      "[[131   8]\n",
      " [  5  66]]\n",
      "              precision    recall  f1-score   support\n",
      "\n",
      "           2       0.96      0.94      0.95       139\n",
      "           4       0.89      0.93      0.91        71\n",
      "\n",
      "   micro avg       0.94      0.94      0.94       210\n",
      "   macro avg       0.93      0.94      0.93       210\n",
      "weighted avg       0.94      0.94      0.94       210\n",
      "\n"
     ]
    }
   ],
   "source": [
    "from sklearn.model_selection import train_test_split  \n",
    "X_train, X_test, y_train, y_test = train_test_split(X, y, test_size = 0.30)  \n",
    "from sklearn.svm import SVC  \n",
    "svclassifier = SVC(kernel='linear')  \n",
    "svclassifier.fit(X_train, y_train) \n",
    "y_pred = svclassifier.predict(X_test)  \n",
    "from sklearn.metrics import classification_report, confusion_matrix  \n",
    "print(confusion_matrix(y_test,y_pred))  \n",
    "print(classification_report(y_test,y_pred))  "
   ]
  },
  {
   "cell_type": "markdown",
   "metadata": {},
   "source": [
    "<table><tr><td bgcolor=lightyellow>Using the original dataset, we have misclassifications whose number is the sum of antidiagonal of the confusion matrix."
   ]
  },
  {
   "cell_type": "markdown",
   "metadata": {},
   "source": [
    "<table><tr><td bgcolor=lightyellow>Next, we test our reduced system. To clearly show the difference according to the figure above, here we give an example of 1-dimension. Before implementing svm ,we can reshape X_reduced in a form similar to the initial data."
   ]
  },
  {
   "cell_type": "code",
   "execution_count": 27,
   "metadata": {
    "jupyter": {
     "outputs_hidden": false
    },
    "scrolled": true
   },
   "outputs": [
    {
     "name": "stdout",
     "output_type": "stream",
     "text": [
      "(699, 1)\n",
      "     principal component 1  class\n",
      "0                -0.049204    2.0\n",
      "1                -2.352714    2.0\n",
      "2                 0.004865    2.0\n",
      "3                -2.062768    2.0\n",
      "4                -0.207508    2.0\n",
      "5                -4.719323    4.0\n",
      "6                -0.251435    2.0\n",
      "7                 0.031865    2.0\n",
      "8                -2.034931    2.0\n",
      "9                 0.016861    2.0\n",
      "10                0.340906    2.0\n",
      "11                0.185069    2.0\n",
      "12               -1.046561    4.0\n",
      "13                0.058934    2.0\n",
      "14               -5.495845    4.0\n",
      "15               -2.088714    4.0\n",
      "16                0.086662    2.0\n",
      "17                0.000000    2.0\n",
      "18               -3.081013    4.0\n",
      "19               -0.098407    2.0\n",
      "20               -4.511617    4.0\n",
      "21               -3.459437    4.0\n",
      "22                0.135866    2.0\n",
      "23               -1.512947    4.0\n",
      "24                0.147611    2.0\n",
      "25               -1.399089    4.0\n",
      "26                0.259361    2.0\n",
      "27                0.037458    2.0\n",
      "28                0.185069    2.0\n",
      "29                0.187850    2.0\n",
      "..                     ...    ...\n",
      "669              -4.131930    4.0\n",
      "670              -3.283262    4.0\n",
      "671              -0.124351    2.0\n",
      "672               0.098407    2.0\n",
      "673              -0.275319    2.0\n",
      "674               0.234273    2.0\n",
      "675              -0.026303    2.0\n",
      "676               0.167730    2.0\n",
      "677               0.124120    2.0\n",
      "678               0.320935    2.0\n",
      "679               0.271731    2.0\n",
      "680              -8.527126    4.0\n",
      "681              -4.892075    4.0\n",
      "682              -0.163145    2.0\n",
      "683               0.320935    2.0\n",
      "684               0.320935    2.0\n",
      "685               0.320935    2.0\n",
      "686               0.320935    2.0\n",
      "687              -0.092018    2.0\n",
      "688               0.173324    2.0\n",
      "689              -3.715724    2.0\n",
      "690               0.113427    2.0\n",
      "691              -2.683737    4.0\n",
      "692               0.222528    2.0\n",
      "693              -0.440800    2.0\n",
      "694              -0.015107    2.0\n",
      "695               0.271731    2.0\n",
      "696              -4.574403    4.0\n",
      "697              -2.635230    4.0\n",
      "698              -2.881820    4.0\n",
      "\n",
      "[699 rows x 2 columns]\n"
     ]
    }
   ],
   "source": [
    "reducedvec, var=reduce_system(U,1)\n",
    "X_pca=reducedvec\n",
    "y = y.to_numpy()\n",
    "y = y.reshape((len(y),1))\n",
    "print(X_pca.shape)\n",
    "df_pca = np.append(X_pca,y,axis=1)\n",
    "df_pca = pd.DataFrame(data = df_pca, columns = ['principal component 1','class'])\n",
    "print(df_pca)"
   ]
  },
  {
   "cell_type": "code",
   "execution_count": 28,
   "metadata": {
    "jupyter": {
     "outputs_hidden": false
    }
   },
   "outputs": [],
   "source": [
    "X1 = df_pca.drop(columns='class')\n",
    "y1 = df_pca['class']"
   ]
  },
  {
   "cell_type": "markdown",
   "metadata": {},
   "source": [
    "<table><tr><td bgcolor=lightyellow>Implement svm to the reduced data."
   ]
  },
  {
   "cell_type": "code",
   "execution_count": 29,
   "metadata": {
    "jupyter": {
     "outputs_hidden": false
    }
   },
   "outputs": [
    {
     "name": "stdout",
     "output_type": "stream",
     "text": [
      "[[130   4]\n",
      " [  5  71]]\n",
      "              precision    recall  f1-score   support\n",
      "\n",
      "         2.0       0.96      0.97      0.97       134\n",
      "         4.0       0.95      0.93      0.94        76\n",
      "\n",
      "   micro avg       0.96      0.96      0.96       210\n",
      "   macro avg       0.95      0.95      0.95       210\n",
      "weighted avg       0.96      0.96      0.96       210\n",
      "\n"
     ]
    }
   ],
   "source": [
    "from sklearn.model_selection import train_test_split  \n",
    "X_train, X_test, y_train, y_test = train_test_split(X1, y1, test_size = 0.30)  \n",
    "from sklearn.svm import SVC  \n",
    "svclassifier = SVC(kernel='linear')  \n",
    "svclassifier.fit(X_train, y_train) \n",
    "y_pred = svclassifier.predict(X_test)  \n",
    "from sklearn.metrics import classification_report, confusion_matrix  \n",
    "print(confusion_matrix(y_test,y_pred))  \n",
    "print(classification_report(y_test,y_pred))  "
   ]
  },
  {
   "cell_type": "markdown",
   "metadata": {},
   "source": [
    "<table><tr><td bgcolor=lightyellow>Here, the classifcation has more misclassifcations than the one using the original data, likely caused by the loss in information during PCA, but this drop is not bad compared to the time this saved (which albeit kicks in more seriously when dealing with much larger datasets)."
   ]
  }
 ],
 "metadata": {
  "kernelspec": {
   "display_name": "Python 3",
   "language": "python",
   "name": "python3"
  },
  "language_info": {
   "codemirror_mode": {
    "name": "ipython",
    "version": 3
   },
   "file_extension": ".py",
   "mimetype": "text/x-python",
   "name": "python",
   "nbconvert_exporter": "python",
   "pygments_lexer": "ipython3",
   "version": "3.7.0"
  }
 },
 "nbformat": 4,
 "nbformat_minor": 4
}