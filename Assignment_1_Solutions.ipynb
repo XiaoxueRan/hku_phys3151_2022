{
  "cells": [
    {
      "cell_type": "markdown",
      "metadata": {
        "id": "view-in-github",
        "colab_type": "text"
      },
      "source": [
        "<a href=\"https://colab.research.google.com/github/XiaoxueRan/hku_phys3151_2022/blob/main/Assignment_1_Solutions.ipynb\" target=\"_parent\"><img src=\"https://colab.research.google.com/assets/colab-badge.svg\" alt=\"Open In Colab\"/></a>"
      ]
    },
    {
      "cell_type": "markdown",
      "metadata": {
        "id": "knucvb2epJHQ"
      },
      "source": [
        "# Assignment 1- Solutions"
      ]
    },
    {
      "cell_type": "markdown",
      "metadata": {
        "id": "vwvx4ggKpJHR"
      },
      "source": [
        "\n",
        "## 1. Being familiar with Python\n",
        "This problem is to let you pratice the basic Python syntaxs and being famliar with Python, which is likely the easiest programming language to learn."
      ]
    },
    {
      "cell_type": "markdown",
      "metadata": {
        "id": "Ho2QK7A5pJHR"
      },
      "source": [
        "### Strings, integers, and floats\n",
        "These three kind of variables are often seen in most machine learning codes."
      ]
    },
    {
      "cell_type": "code",
      "execution_count": null,
      "metadata": {
        "colab": {
          "base_uri": "https://localhost:8080/"
        },
        "id": "_b5PMH_WpJHR",
        "outputId": "fdfcf289-212e-44aa-9129-c57e59f38620"
      },
      "outputs": [
        {
          "output_type": "stream",
          "name": "stdout",
          "text": [
            "Hello, Machine learnning!\n"
          ]
        }
      ],
      "source": [
        "#Strings\n",
        "print('Hello, Machine learnning!')"
      ]
    },
    {
      "cell_type": "code",
      "execution_count": null,
      "metadata": {
        "colab": {
          "base_uri": "https://localhost:8080/"
        },
        "id": "QJAFsNKspJHS",
        "outputId": "3ab99a1c-2d70-4a5e-d792-322cf5583b2b"
      },
      "outputs": [
        {
          "output_type": "stream",
          "name": "stdout",
          "text": [
            "What is your student ID?123\n",
            "My student ID is 123\n"
          ]
        }
      ],
      "source": [
        "#integer\n",
        "integer=int(input('What is your student ID?'))\n",
        "print('My student ID is', integer)"
      ]
    },
    {
      "cell_type": "code",
      "execution_count": null,
      "metadata": {
        "colab": {
          "base_uri": "https://localhost:8080/"
        },
        "id": "AGMezPaspJHS",
        "outputId": "3690d0ec-34c1-4024-de75-c13c3578402b"
      },
      "outputs": [
        {
          "output_type": "stream",
          "name": "stdout",
          "text": [
            "What is the temperature in the room?37\n",
            "It is 37.0\n"
          ]
        }
      ],
      "source": [
        "#float\n",
        "Temperature=float(input('What is the temperature in the room?'))\n",
        "print('It is',Temperature)"
      ]
    },
    {
      "cell_type": "markdown",
      "source": [
        "## List & Array"
      ],
      "metadata": {
        "id": "SJa4r1gsleQd"
      }
    },
    {
      "cell_type": "code",
      "source": [
        "A = [0,1,2,3,4,'a','b','c']\n",
        "print(A)"
      ],
      "metadata": {
        "colab": {
          "base_uri": "https://localhost:8080/"
        },
        "id": "nPzay-ZYloH9",
        "outputId": "bc79c09a-6dbd-4f85-e682-65abfa371229"
      },
      "execution_count": null,
      "outputs": [
        {
          "output_type": "stream",
          "name": "stdout",
          "text": [
            "[0, 1, 2, 3, 4, 'a', 'b', 'c']\n"
          ]
        }
      ]
    },
    {
      "cell_type": "code",
      "source": [
        "import numpy as np\n",
        "B = np.array([0, 1, 2, 3, 4])\n",
        "print(B)"
      ],
      "metadata": {
        "colab": {
          "base_uri": "https://localhost:8080/"
        },
        "id": "h3Mlc2a9mFNt",
        "outputId": "34e2d86c-d1ee-44da-c0db-657e5c7e1c99"
      },
      "execution_count": null,
      "outputs": [
        {
          "output_type": "stream",
          "name": "stdout",
          "text": [
            "[0 1 2 3 4]\n"
          ]
        }
      ]
    },
    {
      "cell_type": "markdown",
      "metadata": {
        "id": "QanNgGjYpJHT"
      },
      "source": [
        "### Basic operators"
      ]
    },
    {
      "cell_type": "code",
      "execution_count": null,
      "metadata": {
        "colab": {
          "base_uri": "https://localhost:8080/"
        },
        "id": "Sjza3X5npJHT",
        "outputId": "dbd524b5-ffc3-47ea-a99f-0df2c9c9643d"
      },
      "outputs": [
        {
          "output_type": "stream",
          "name": "stdout",
          "text": [
            "c,d,e,f = 4 , 3.5 , 12.25 , 4.083333333333333\n"
          ]
        }
      ],
      "source": [
        "a=1   #integer\n",
        "b=3   #integer\n",
        "c=a+b  #integer\n",
        "d=c-0.5*a  #float\n",
        "e=d*d   #float\n",
        "f=e/b   #float\n",
        "\n",
        "print('c,d,e,f =', c,',',d,',',e,',',f)"
      ]
    },
    {
      "cell_type": "markdown",
      "metadata": {
        "id": "Ltyh1KewpJHU"
      },
      "source": [
        "### Nested if statement"
      ]
    },
    {
      "cell_type": "code",
      "execution_count": null,
      "metadata": {
        "colab": {
          "base_uri": "https://localhost:8080/"
        },
        "id": "XTKeV9jtpJHU",
        "outputId": "3403eb5c-4e2c-44e3-ff73-1cea4e396056"
      },
      "outputs": [
        {
          "output_type": "stream",
          "name": "stdout",
          "text": [
            "n is 1\n"
          ]
        }
      ],
      "source": [
        "i=1\n",
        "j=1\n",
        "n=0\n",
        "if i<=100:\n",
        "    if j<=100:\n",
        "        n=n+i*j\n",
        "print('n is',n)\n",
        "        "
      ]
    },
    {
      "cell_type": "markdown",
      "metadata": {
        "id": "RPuZiyeXpJHU"
      },
      "source": [
        "### For and while loop"
      ]
    },
    {
      "cell_type": "code",
      "execution_count": null,
      "metadata": {
        "colab": {
          "base_uri": "https://localhost:8080/"
        },
        "id": "8efBylXfpJHV",
        "outputId": "b6f8fccf-7302-4d89-9a9b-5cdde84b5977"
      },
      "outputs": [
        {
          "output_type": "stream",
          "name": "stdout",
          "text": [
            "0\n",
            "1\n",
            "2\n",
            "3\n",
            "4\n",
            "0\n",
            "1\n",
            "2\n",
            "3\n",
            "4\n"
          ]
        }
      ],
      "source": [
        "for i in range(5):\n",
        "    print(i)\n",
        "i=0\n",
        "while i<5:\n",
        "    print(i)\n",
        "    i=i+1"
      ]
    },
    {
      "cell_type": "markdown",
      "metadata": {
        "id": "2f4RwYnlpJHV"
      },
      "source": [
        "### Defining and calling a function"
      ]
    },
    {
      "cell_type": "code",
      "execution_count": null,
      "metadata": {
        "colab": {
          "base_uri": "https://localhost:8080/"
        },
        "id": "_NYHKyd5pJHV",
        "outputId": "ea3e2d89-18af-4526-ce12-047d71cedcba"
      },
      "outputs": [
        {
          "output_type": "execute_result",
          "data": {
            "text/plain": [
              "5"
            ]
          },
          "metadata": {},
          "execution_count": 9
        }
      ],
      "source": [
        "def f(x):\n",
        "    x=x**2+1\n",
        "    #print(x)\n",
        "    return(x)\n",
        "\n",
        "f(2)"
      ]
    },
    {
      "cell_type": "markdown",
      "metadata": {
        "id": "v_10rbRFpJHW"
      },
      "source": [
        "### Make your first plot"
      ]
    },
    {
      "cell_type": "code",
      "execution_count": null,
      "metadata": {
        "colab": {
          "base_uri": "https://localhost:8080/",
          "height": 295
        },
        "id": "aOYUZFPzpJHW",
        "outputId": "aaa4f9da-f88d-4019-f54e-8e8b83d52a02"
      },
      "outputs": [
        {
          "output_type": "display_data",
          "data": {
            "image/png": "[encoded data removed]",
            "text/plain": [
              "<Figure size 432x288 with 1 Axes>"
            ]
          },
          "metadata": {
            "needs_background": "light"
          }
        }
      ],
      "source": [
        "import matplotlib.pyplot as plt # a package useful for making a plot\n",
        "\n",
        "x=[1,2,3,4,5,6,7,8]\n",
        "y=[1.1,2.3,3.1,3.1,1.2,6,1,4.5]\n",
        "\n",
        "plt.figure()\n",
        "plt.scatter(x,y,color='red')\n",
        "plt.plot(x,y,color='green' )\n",
        "plt.xlabel('x')\n",
        "plt.ylabel(r'$y_{1}$')\n",
        "plt.title('A simple example')\n",
        "plt.show()\n"
      ]
    },
    {
      "cell_type": "markdown",
      "metadata": {
        "id": "AS16Ebo6pJHW"
      },
      "source": [
        "## 2. Math Practice"
      ]
    },
    {
      "cell_type": "markdown",
      "metadata": {
        "id": "bm8aOKXQpJHX"
      },
      "source": [
        "### Calculate $A^T$"
      ]
    },
    {
      "cell_type": "markdown",
      "source": [
        "$A^T$  is the transpose of $A$."
      ],
      "metadata": {
        "id": "R4TjScxNeW5b"
      }
    },
    {
      "cell_type": "code",
      "execution_count": null,
      "metadata": {
        "colab": {
          "base_uri": "https://localhost:8080/"
        },
        "id": "mr3UuqA4pJHX",
        "outputId": "42c60f69-a3d9-4325-d5c2-1482c7edd907"
      },
      "outputs": [
        {
          "output_type": "stream",
          "name": "stdout",
          "text": [
            "A is [[ 1  2  1]\n",
            " [ 6 -1  0]\n",
            " [-1 -2  1]]\n",
            "B is [[ 1  6 -1]\n",
            " [ 2 -1 -2]\n",
            " [ 1  0  1]]\n"
          ]
        }
      ],
      "source": [
        "import numpy as np\n",
        "a=np.array([[1,2,1],[6,-1,0],[-1,-2,1]])\n",
        "print('A is',a)\n",
        "b=a.T\n",
        "print('B is',b)"
      ]
    },
    {
      "cell_type": "markdown",
      "metadata": {
        "id": "gwvNUtiopJHX"
      },
      "source": [
        "\n",
        "$$\n",
        "A=\n",
        "\\begin{pmatrix} \n",
        "1&2&1\\\\\n",
        "6&-1&0\\\\\n",
        "-1&-2&1\n",
        "\\end{pmatrix},\n",
        "B_{i j}=A_{ji}， \n",
        "B=\n",
        "\\begin{pmatrix} \n",
        "1&6&-1\\\\\n",
        "2&-1&-2\\\\\n",
        "1&0&1\n",
        "\\end{pmatrix}\n",
        "$$"
      ]
    },
    {
      "cell_type": "markdown",
      "source": [
        "### Determine whether $B$ is ​​positive definite"
      ],
      "metadata": {
        "id": "WXcB_oKYc44l"
      }
    },
    {
      "cell_type": "markdown",
      "source": [
        "An \n",
        "$n\\times n$ symmetric real matrix \n",
        "$M$ is said to be positive-definite if \n",
        "$\\mathbf {x}^TM\\mathbf {x} >0$ for all non-zero \n",
        "$\\mathbf {x}$  in \n",
        "$\\mathbb {R} ^{n}$.\n",
        "\n",
        "Two ways to determine:\n",
        "\n",
        ">(1). $M$ is positive definite if and only if all of its eigenvalues are positive"
      ],
      "metadata": {
        "id": "drF4wRVnd12a"
      }
    },
    {
      "cell_type": "markdown",
      "source": [
        "The eigenvalues of $B$ are values of $λ$ that satisfy the determinant\n",
        "$|B-\\lambda I|=0$\n",
        "\n",
        "<br>\n",
        "\n",
        "$$\n",
        "det\n",
        "\\begin{pmatrix} \n",
        "1-\\lambda&6&-1\\\\\n",
        "2&-1-\\lambda&-2\\\\\n",
        "1&0&1-\\lambda\n",
        "\\end{pmatrix}=0\n",
        "$$\n",
        "\n",
        "<br>\n",
        "\n",
        "which equals to $-\\lambda^3-\\lambda^2+12\\lambda=0$, $\\lambda=0,3,-4$. So $B$ is ​​ not positive definite."
      ],
      "metadata": {
        "id": "X3PJS7mEgPJF"
      }
    },
    {
      "cell_type": "markdown",
      "source": [
        ">(2). The leading principal minors of $M$ are all positive"
      ],
      "metadata": {
        "id": "Jf7DdCeLh8la"
      }
    },
    {
      "cell_type": "markdown",
      "source": [
        "The $k$th leading principal minor of a matrix \n",
        "$M$ is the determinant of its upper-left \n",
        "$k\\times k$ sub-matrix.\n",
        "\n",
        "For $B$, the first leading principal minor is  \n",
        "$$\n",
        "\\left|\\begin{array}{cccc} \n",
        "    1  \n",
        "\\end{array}\\right| =1\n",
        "$$\n",
        "the second leading principal minor is\n",
        "$$\n",
        "\\left|\\begin{array}{cccc} \n",
        "    1 &    6  \\\\ \n",
        "    2 &    -1\\\\ \n",
        "\\end{array}\\right| =-13<0\n",
        "$$\n",
        "the third leading principal minor is\n",
        "$$\n",
        "\\left|\\begin{array}{cccc} \n",
        "    1 &    6    & -1 \\\\ \n",
        "    2 &    -1   & -2\\\\ \n",
        "    1 & 0 & 1 \n",
        "\\end{array}\\right|=26<0\n",
        "$$\n",
        "So $B$ is ​​ not positive definite."
      ],
      "metadata": {
        "id": "HrOgNHsfio2O"
      }
    },
    {
      "cell_type": "markdown",
      "metadata": {
        "id": "4L13UWOppJHX"
      },
      "source": [
        "### 1st order partial derivative"
      ]
    },
    {
      "cell_type": "markdown",
      "metadata": {
        "id": "EuF-huvypJHY"
      },
      "source": [
        "$$\n",
        "f(x_{1},x_{2},x_{3})=x_1^3+3x_2^2-\\ln(x_3)\n",
        "$$\n",
        "\n",
        "$$\n",
        "(\\partial_{1}f,\\partial_{2}f,\\partial_{3}f)=(3x_1^2,6x_2,-\\frac{1}{x_3})\n",
        "$$"
      ]
    },
    {
      "cell_type": "markdown",
      "metadata": {
        "id": "Hl5S-ONRpJHY"
      },
      "source": [
        "### Hessian Matrix"
      ]
    },
    {
      "cell_type": "markdown",
      "metadata": {
        "id": "AH6Pe2ZapJHY"
      },
      "source": [
        "$$\n",
        "\\text{Hessian Matrix of} f(x_{1},x_{2},x_{3})=\\begin{pmatrix} \\partial_{1}^{2}f & \\partial_{1}\\partial_{2}f  & \\partial_{1}\\partial_{3}f \\\\\n",
        "\\partial_{2}\\partial_{1}f & \\partial_{2}^{2}f  & \\partial_{2}\\partial_{3}f\\\\\n",
        "\\partial_{3}\\partial_{1} f & \\partial_{3}\\partial_{2}f  & \\partial_{3}^{2}f\n",
        "\\end{pmatrix}=\n",
        "\\begin{pmatrix}\n",
        "6x_1  & 0  & 0\\\\\n",
        "0      &   6  &  0    \\\\\n",
        "0  &0   & \\frac{1}{x_3^2}\n",
        "\\end{pmatrix}\n",
        "$$"
      ]
    },
    {
      "cell_type": "markdown",
      "metadata": {
        "id": "N16xmheJpJHY"
      },
      "source": [
        "###The Hessian matrix of cost function $J(\\theta)$ is just $Q=\\frac{1}{M}X^{T}X$.\n",
        "[Example 3](https://colab.research.google.com/github/XiaoxueRan/hku_phys3151_2022/blob/main/multivariate-linear-regression/multivariate_linear_regression.ipynb#scrollTo=EZZQ7zIj5-jv)"
      ]
    },
    {
      "cell_type": "markdown",
      "metadata": {
        "id": "nfzOJDEspJHY"
      },
      "source": [
        "## 3. Gradient descent and steepest descent method"
      ]
    },
    {
      "cell_type": "markdown",
      "source": [
        "[to model and reveal the force of gravity.ipynb](https://colab.research.google.com/github/XiaoxueRan/hku_phys3151_2022/blob/main/multivariate-linear-regression/to_model_and_reveal_the_force_of_gravity.ipynb)"
      ],
      "metadata": {
        "id": "J614kVfJrqLE"
      }
    },
    {
      "cell_type": "code",
      "source": [
        ""
      ],
      "metadata": {
        "id": "TU8LVuI4uxVe"
      },
      "execution_count": null,
      "outputs": []
    },
    {
      "cell_type": "code",
      "source": [
        ""
      ],
      "metadata": {
        "id": "h7dRDOihuxPc"
      },
      "execution_count": null,
      "outputs": []
    },
    {
      "cell_type": "code",
      "source": [
        ""
      ],
      "metadata": {
        "id": "8t-Z3-KXuxLo"
      },
      "execution_count": null,
      "outputs": []
    },
    {
      "cell_type": "code",
      "source": [
        ""
      ],
      "metadata": {
        "id": "9fha6FnwuxJD"
      },
      "execution_count": null,
      "outputs": []
    },
    {
      "cell_type": "code",
      "source": [
        ""
      ],
      "metadata": {
        "id": "aSGDxpq3uxGP"
      },
      "execution_count": null,
      "outputs": []
    },
    {
      "cell_type": "code",
      "source": [
        ""
      ],
      "metadata": {
        "id": "AbLIwt5muxCc"
      },
      "execution_count": null,
      "outputs": []
    },
    {
      "cell_type": "code",
      "source": [
        ""
      ],
      "metadata": {
        "id": "mtqLrqhhuw_n"
      },
      "execution_count": null,
      "outputs": []
    },
    {
      "cell_type": "code",
      "source": [
        ""
      ],
      "metadata": {
        "id": "3lXHheqyuwzP"
      },
      "execution_count": null,
      "outputs": []
    },
    {
      "cell_type": "code",
      "source": [
        ""
      ],
      "metadata": {
        "id": "aSiHkXyEuwqY"
      },
      "execution_count": null,
      "outputs": []
    },
    {
      "cell_type": "code",
      "source": [
        ""
      ],
      "metadata": {
        "id": "z2f65RkEuwVh"
      },
      "execution_count": null,
      "outputs": []
    }
  ],
  "metadata": {
    "kernelspec": {
      "display_name": "Python 3",
      "language": "python",
      "name": "python3"
    },
    "language_info": {
      "codemirror_mode": {
        "name": "ipython",
        "version": 3
      },
      "file_extension": ".py",
      "mimetype": "text/x-python",
      "name": "python",
      "nbconvert_exporter": "python",
      "pygments_lexer": "ipython3",
      "version": "3.8.3"
    },
    "colab": {
      "name": "Assignment 1- Solutions",
      "provenance": [],
      "collapsed_sections": [
        "bm8aOKXQpJHX",
        "WXcB_oKYc44l"
      ],
      "include_colab_link": true
    }
  },
  "nbformat": 4,
  "nbformat_minor": 0
}