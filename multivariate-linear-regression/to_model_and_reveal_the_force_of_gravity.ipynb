{
  "nbformat": 4,
  "nbformat_minor": 0,
  "metadata": {
    "colab": {
      "name": "to model and reveal the force of gravity.ipynb",
      "provenance": [],
      "include_colab_link": true
    },
    "kernelspec": {
      "name": "python3",
      "display_name": "Python 3"
    },
    "language_info": {
      "name": "python"
    }
  },
  "cells": [
    {
      "cell_type": "markdown",
      "metadata": {
        "id": "view-in-github",
        "colab_type": "text"
      },
      "source": [
        "<a href=\"https://colab.research.google.com/github/Plutooooo/hku_phys3151_2022/blob/main/multivariate-linear-regression/to_model_and_reveal_the_force_of_gravity.ipynb\" target=\"_parent\"><img src=\"https://colab.research.google.com/assets/colab-badge.svg\" alt=\"Open In Colab\"/></a>"
      ]
    },
    {
      "cell_type": "markdown",
      "source": [
        "# Using polynomial regression to model and reveal the force of gravity"
      ],
      "metadata": {
        "id": "aqWz9kqbl9YX"
      }
    },
    {
      "cell_type": "markdown",
      "source": [
        "We will take a look at a simple example: the force of gravity on a falling object. The formula for the location of a falling object is:\n",
        "\n",
        "\\begin{eqnarray}\n",
        "y=X_{0}+V_{0}t-\\frac{1}{2}gt^{2}\n",
        "\\end{eqnarray}\n",
        "\n",
        "where $X_{0}$ is the initial location of the object, i.e. its initial height.\n",
        "$V_{0}$ is the initial velocity (or speed) of the object when it is at this initial position. $t$ is the time after the object was dropped. $g$ is the force of gravity, which is an acceleration of approximately 9.8 $m/s^{2}$. This is actually a constant not a variable like all of the others (unless we are dropping an object on different planets, which are not). It is negative because the force of gravity is downward, from a positive location value toward zero."
      ],
      "metadata": {
        "id": "nXL58ogzmONQ"
      }
    },
    {
      "cell_type": "markdown",
      "source": [
        "First, we will create a Python function to calculate the location of a falling object"
      ],
      "metadata": {
        "id": "jo98J0Dro2yc"
      }
    },
    {
      "cell_type": "code",
      "source": [
        "def location(x_0, v_0, t):\n",
        "    return x_0 + v_0*t - (9.8/2)*t**2"
      ],
      "metadata": {
        "id": "qWUscPHgo6Yq"
      },
      "execution_count": null,
      "outputs": []
    },
    {
      "cell_type": "markdown",
      "source": [
        "Next, we use this function to create a dataset and save it in a CSV file"
      ],
      "metadata": {
        "id": "B4tnqItmpCii"
      }
    },
    {
      "cell_type": "code",
      "source": [
        "import csv\n",
        "import random\n",
        "import math\n",
        "random.seed\n",
        "with open('gravity_location_data.csv', mode='w') as gravity_file:\n",
        "    gravity_writer = csv.writer(gravity_file, delimiter=',', quotechar='\"', quoting=csv.QUOTE_MINIMAL)\n",
        "    gravity_writer.writerow(['initial_position', 'initial_velocity', 'mass', 'time', 'location'])\n",
        "    for i in range (0, 1000):\n",
        "        initial_position = random.uniform(0,1)\n",
        "        initial_velocity = random.uniform(0,1)\n",
        "        mass = random.uniform(0,1)\n",
        "        time = random.uniform(0,1)\n",
        "        gravity_writer.writerow([initial_position, initial_velocity, mass, time, location(initial_position, initial_velocity, time)])"
      ],
      "metadata": {
        "id": "nMhKhvw3pHpY"
      },
      "execution_count": null,
      "outputs": []
    },
    {
      "cell_type": "markdown",
      "source": [
        "What we are doing here is creating 1,000 examples, using randomized values for all of our variables, then calculating the location at a certain (randomly selected) time."
      ],
      "metadata": {
        "id": "TmFDIoOgpOLH"
      }
    },
    {
      "cell_type": "code",
      "source": [
        "import numpy as np\n",
        "import matplotlib.pyplot as plt\n",
        "import pandas as pd\n",
        "df = pd.read_csv('/content/gravity_location_data.csv')\n",
        "print(df)"
      ],
      "metadata": {
        "id": "Hx52Kebbp7Wc",
        "outputId": "c59f19f8-73e1-4a88-91ac-16e951f157d1",
        "colab": {
          "base_uri": "https://localhost:8080/"
        }
      },
      "execution_count": null,
      "outputs": [
        {
          "output_type": "stream",
          "name": "stdout",
          "text": [
            "     initial_position  initial_velocity      mass      time  location\n",
            "0            0.309658          0.448971  0.645376  0.524295 -0.801885\n",
            "1            0.371390          0.631152  0.018269  0.290784  0.140598\n",
            "2            0.597717          0.771454  0.252784  0.242887  0.496022\n",
            "3            0.534240          0.514367  0.557786  0.246156  0.363951\n",
            "4            0.644713          0.841388  0.252361  0.654421 -0.903174\n",
            "..                ...               ...       ...       ...       ...\n",
            "995          0.276592          0.041679  0.493583  0.155626  0.164404\n",
            "996          0.258822          0.197109  0.193203  0.311427 -0.155027\n",
            "997          0.641722          0.382796  0.652411  0.090249  0.636359\n",
            "998          0.722009          0.479080  0.201649  0.794314 -1.989029\n",
            "999          0.953058          0.933178  0.487074  0.447641  0.388913\n",
            "\n",
            "[1000 rows x 5 columns]\n"
          ]
        }
      ]
    },
    {
      "cell_type": "code",
      "source": [
        "df['initial_velocity_time']=df['initial_velocity']*df['time']\n",
        "df['time^2']=df['time']*df['time']\n",
        "print(df)"
      ],
      "metadata": {
        "id": "G9Q75xxHwtqY",
        "outputId": "d2d7d412-9c15-45fe-cb32-6d0cc8c3c3ec",
        "colab": {
          "base_uri": "https://localhost:8080/"
        }
      },
      "execution_count": null,
      "outputs": [
        {
          "output_type": "stream",
          "name": "stdout",
          "text": [
            "     initial_position  initial_velocity  ...  initial_velocity_time    time^2\n",
            "0            0.309658          0.448971  ...               0.235393  0.274885\n",
            "1            0.371390          0.631152  ...               0.183529  0.084555\n",
            "2            0.597717          0.771454  ...               0.187377  0.058994\n",
            "3            0.534240          0.514367  ...               0.126614  0.060593\n",
            "4            0.644713          0.841388  ...               0.550622  0.428267\n",
            "..                ...               ...  ...                    ...       ...\n",
            "995          0.276592          0.041679  ...               0.006486  0.024219\n",
            "996          0.258822          0.197109  ...               0.061385  0.096987\n",
            "997          0.641722          0.382796  ...               0.034547  0.008145\n",
            "998          0.722009          0.479080  ...               0.380540  0.630934\n",
            "999          0.953058          0.933178  ...               0.417729  0.200382\n",
            "\n",
            "[1000 rows x 7 columns]\n"
          ]
        }
      ]
    },
    {
      "cell_type": "markdown",
      "source": [
        "Next, we scale the data"
      ],
      "metadata": {
        "id": "9OUYH7aIyIJL"
      }
    },
    {
      "cell_type": "code",
      "source": [
        "df = df.to_numpy()\n",
        "x = [df[:,0],df[:,5],df[:,6]]\n",
        "y = [df[:,4]]\n",
        "x = np.array(x)\n",
        "#print(x)\n",
        "x = x.T\n",
        "y = np.array(y)\n",
        "y = y.T\n",
        "#print(y)"
      ],
      "metadata": {
        "id": "6NRbgEH3wGcW"
      },
      "execution_count": null,
      "outputs": []
    },
    {
      "cell_type": "markdown",
      "source": [
        "Now, we define functions for cost funciton and gradient descent."
      ],
      "metadata": {
        "id": "Prd7EH5T0XqZ"
      }
    },
    {
      "cell_type": "code",
      "source": [
        "def  computeCost(theta,X,y):\n",
        "    m = float(len(y))\n",
        "    \n",
        "    predictions = X.dot(theta)\n",
        "    cost = (1/(2*m)) * np.sum(np.square(predictions-y))\n",
        "    return cost"
      ],
      "metadata": {
        "id": "mU_Rqzl00UU0"
      },
      "execution_count": null,
      "outputs": []
    },
    {
      "cell_type": "code",
      "source": [
        "def gradient_descent(X,y,theta,alpha,iterations):\n",
        "    m = float(len(y))\n",
        "    cost_history = np.zeros(iterations)\n",
        "    theta_history = np.zeros((iterations,4))\n",
        "    for it in range(iterations):\n",
        "        \n",
        "        prediction = np.dot(X,theta)\n",
        "        theta = theta -(1/m)*alpha*( X.T.dot((prediction - y)))\n",
        "        theta_history[it,:] = theta.T\n",
        "        cost_history[it]  = computeCost(theta,X,y)\n",
        "        \n",
        "    return theta, cost_history, theta_history"
      ],
      "metadata": {
        "id": "UHUgK7hy0grw"
      },
      "execution_count": null,
      "outputs": []
    },
    {
      "cell_type": "code",
      "source": [
        "alpha =0.1\n",
        "n_iter = 5000\n",
        "\n",
        "theta = np.random.randn(4,1)\n",
        "print(theta)\n",
        "x_b = np.c_[np.ones((len(x),1)),x]\n",
        "#print(x_b)\n",
        "print(computeCost(theta,x_b,y))\n",
        "\n",
        "theta,cost_history,theta_history = gradient_descent(x_b,y,theta,alpha,n_iter)\n",
        "\n",
        "print('Theta0:          {:0.3f},\\nTheta1:          {:0.3f},\\nTheta2:          {:0.3f},\\nTheta3:          {:0.3f}'.format(theta[0][0],theta[1][0],theta[2][0],theta[3][0]))\n",
        "print('Final cost/MSE:  {:0.3f}'.format(cost_history[-1]))\n",
        "\n",
        "plt.plot(cost_history)\n",
        "plt.xlabel(\"Iteration\")\n",
        "plt.ylabel(\"$J(\\Theta)$\")\n",
        "plt.title(\"Cost function using Gradient Descent\")"
      ],
      "metadata": {
        "id": "mIl42aua0m-6",
        "outputId": "a85ac680-82bb-4093-a84e-f9ac1992813d",
        "colab": {
          "base_uri": "https://localhost:8080/",
          "height": 601
        }
      },
      "execution_count": null,
      "outputs": [
        {
          "output_type": "stream",
          "name": "stdout",
          "text": [
            "[[0.5658401 ]\n",
            " [0.38961277]\n",
            " [0.47721015]\n",
            " [1.9938997 ]]\n",
            "[[1.         0.30965823 0.23539307 0.27488486]\n",
            " [1.         0.3713897  0.18352868 0.08455515]\n",
            " [1.         0.59771733 0.18737657 0.05899429]\n",
            " ...\n",
            " [1.         0.64172193 0.03454702 0.0081449 ]\n",
            " [1.         0.72200913 0.38054003 0.63093434]\n",
            " [1.         0.95305754 0.41772852 0.20038225]]\n",
            "4.951681157350872\n",
            "Theta0:          0.000,\n",
            "Theta1:          1.000,\n",
            "Theta2:          1.000,\n",
            "Theta2:          -4.900\n",
            "Final cost/MSE:  0.000\n"
          ]
        },
        {
          "output_type": "execute_result",
          "data": {
            "text/plain": [
              "Text(0.5, 1.0, 'Cost function using Gradient Descent')"
            ]
          },
          "metadata": {},
          "execution_count": 16
        },
        {
          "output_type": "display_data",
          "data": {
            "image/png": "[encoded data removed]",
            "text/plain": [
              "<Figure size 432x288 with 1 Axes>"
            ]
          },
          "metadata": {
            "needs_background": "light"
          }
        }
      ]
    },
    {
      "cell_type": "markdown",
      "source": [
        "This gives us coefficients correspond to each of the three features from above. The first value from our array ( 1.00000000e+00, or 1) is the coefficient on “initial_position”. And in fact, in our original equation, we have the initial velocity ($X_{0}$) with a coefficient of one. \n",
        "\n",
        "The second in our list is also a coefficient of 1, which corresponds to ‘initial_velocity time,’ or initial velocity multiplied by time. Again, we have this factor in our original equation, which appears as $V_{0}t$. \n",
        "\n",
        "Finally, the very last value is -4.9, which is the coefficient corresponding to ‘time ^ 2.’ Note that this also appears in our original equation as $\\frac{1}{2}gt^{2}$. But we said earlier that $g$ is approximately 9.8, and $-\\frac{1}{2} * 9.8 = -4.9$. So this also corresponds with our original equation."
      ],
      "metadata": {
        "id": "VkqwE4eXsBLE"
      }
    },
    {
      "cell_type": "code",
      "source": [
        "for i in range (0,5):\n",
        "    j = random.randint(0,1000)\n",
        "    x_0 = df[j,0]\n",
        "    v_0 = df[j,1]\n",
        "    t =df[j,3]\n",
        "    time =  np.linspace(0,1,100)\n",
        "    y_grad = x_0+v_0*time-4.9*time**2\n",
        "    plt.scatter(t, df[j,4])   #plot data points\n",
        "    plt.plot(time,y_grad)     #plot fitting curve\n",
        "\n",
        "plt.title(' Location of a falling object vs Time', fontsize=14)\n",
        "plt.xlabel('Time', fontsize=14)\n",
        "plt.ylabel('Location', fontsize=14)\n",
        "plt.legend(loc='lower left')\n",
        "plt.grid(True)\n",
        "plt.xlim(0,1)\n",
        "plt.show()"
      ],
      "metadata": {
        "id": "YnyWJCBg2t6c",
        "outputId": "89caafea-7fe8-467a-c1c9-5cdf86d76f98",
        "colab": {
          "base_uri": "https://localhost:8080/",
          "height": 317
        }
      },
      "execution_count": null,
      "outputs": [
        {
          "output_type": "stream",
          "name": "stderr",
          "text": [
            "No handles with labels found to put in legend.\n"
          ]
        },
        {
          "output_type": "display_data",
          "data": {
            "image/png": "[encoded data removed]",
            "text/plain": [
              "<Figure size 432x288 with 1 Axes>"
            ]
          },
          "metadata": {
            "needs_background": "light"
          }
        }
      ]
    },
    {
      "cell_type": "markdown",
      "source": [
        "The dots in the above figure is randomly selected “time” data in the example file. And the curves are ploted with coeffcients we obtained using gradient descent."
      ],
      "metadata": {
        "id": "9oCc946wQEuL"
      }
    }
  ]
}