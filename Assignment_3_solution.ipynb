{
  "nbformat": 4,
  "nbformat_minor": 0,
  "metadata": {
    "colab": {
      "name": "Assignment_3_solution.ipynb",
      "provenance": [],
      "collapsed_sections": [],
      "authorship_tag": "ABX9TyOMgcAowIz2BhXkmD6YoIiK",
      "include_colab_link": true
    },
    "kernelspec": {
      "name": "python3",
      "display_name": "Python 3"
    },
    "language_info": {
      "name": "python"
    }
  },
  "cells": [
    {
      "cell_type": "markdown",
      "metadata": {
        "id": "view-in-github",
        "colab_type": "text"
      },
      "source": [
        "<a href=\"https://colab.research.google.com/github/XiaoxueRan/hku_phys3151_2022/blob/main/Assignment_3_solution.ipynb\" target=\"_parent\"><img src=\"https://colab.research.google.com/assets/colab-badge.svg\" alt=\"Open In Colab\"/></a>"
      ]
    },
    {
      "cell_type": "markdown",
      "source": [
        "# 1. Properties of logistic function $g(z)$"
      ],
      "metadata": {
        "id": "OgkIBfVleR88"
      }
    },
    {
      "cell_type": "markdown",
      "source": [
        "It is easy to prove the three relations by hand. The solutions are \n",
        "$$\n",
        "g(z)+g(-z)=\\frac{1}{1+e^{-z}}+\\frac{1}{1+e^{z}}=\\frac{e^{z}}{e^{z}+1}+\\frac{1}{e^{z}+1}=1\n",
        "$$\n",
        "\n",
        "$$\n",
        "g'(z)=\\frac{e^{-z}}{(1+e^{-z})^2}=g(z)(1-g(z))=g(z)g(-z)\n",
        "$$\n",
        "\n",
        "$$\n",
        "g'(-z)=\\frac{e^{z}}{(1+e^{z})^2}=\\frac{e^{z}e^{-2z}}{e^{-2z}(1+e^{z})^2}=\\frac{e^{-z}}{(1+e^{-z})^2}=g'(z）\n",
        "$$"
      ],
      "metadata": {
        "id": "x-5OZMV5fQwp"
      }
    },
    {
      "cell_type": "markdown",
      "source": [
        "Then we try to draw $g(z)$ at different values of $T$. It is obvious that when $T\\rightarrow 0$, $g(z)$ will converge to a Heaviside step function."
      ],
      "metadata": {
        "id": "T9-kmc-2fVUS"
      }
    },
    {
      "cell_type": "code",
      "source": [
        "import numpy as np\n",
        "import matplotlib.pyplot as plt\n",
        "%matplotlib inline\n",
        "def g(z,T):\n",
        "    return 1./(1+np.exp(-z/T))\n",
        "\n",
        "x=np.arange(-5,5,0.01)\n",
        "y1=[g(it,10.) for it in x]\n",
        "y2=[g(it,5.0) for it in x]\n",
        "y3=[g(it,2.0) for it in x]\n",
        "y4=[g(it,1.0) for it in x]\n",
        "y5=[g(it,0.5) for it in x]\n",
        "y6=[g(it,0.1) for it in x]\n",
        "\n",
        "plt.figure()\n",
        "plt.plot(x,y1,label='T=10')\n",
        "plt.plot(x,y2,label='T=5')\n",
        "plt.plot(x,y3,label='T=2')\n",
        "plt.plot(x,y4,label='T=1')\n",
        "plt.plot(x,y5,label='T=0.5')\n",
        "plt.plot(x,y6,label='T=0.1')\n",
        "plt.legend()\n",
        "plt.ylabel('$g(z)$')\n",
        "plt.xlabel('$z$')\n",
        "plt.show()"
      ],
      "metadata": {
        "colab": {
          "base_uri": "https://localhost:8080/",
          "height": 279
        },
        "id": "VWYMMzKQfZGG",
        "outputId": "3c7ceb72-b729-4fd7-be67-2348ed2ebdbc"
      },
      "execution_count": null,
      "outputs": [
        {
          "output_type": "display_data",
          "data": {
            "text/plain": [
              "<Figure size 432x288 with 1 Axes>"
            ],
            "image/png": "[encoded data removed]"
          },
          "metadata": {
            "needs_background": "light"
          }
        }
      ]
    },
    {
      "cell_type": "markdown",
      "source": [
        "# 2. LogisticRegression"
      ],
      "metadata": {
        "id": "pt2GeMVXeITZ"
      }
    },
    {
      "cell_type": "code",
      "execution_count": null,
      "metadata": {
        "id": "842j9SENhWVK"
      },
      "outputs": [],
      "source": [
        "import numpy as np\n",
        "import pandas as pd\n",
        "from pandas import DataFrame"
      ]
    },
    {
      "cell_type": "code",
      "source": [
        "!git clone https://github.com/XiaoxueRan/hku_phys3151_2022"
      ],
      "metadata": {
        "colab": {
          "base_uri": "https://localhost:8080/"
        },
        "id": "rz9k0JIYH9Wo",
        "outputId": "60f1c2d6-568c-41f7-b721-49134fc16e52"
      },
      "execution_count": null,
      "outputs": [
        {
          "output_type": "stream",
          "name": "stdout",
          "text": [
            "fatal: destination path 'hku_phys3151_2022' already exists and is not an empty directory.\n"
          ]
        }
      ]
    },
    {
      "cell_type": "code",
      "source": [
        "df1 = pd.read_csv(\"/content/hku_phys3151_2022/logistic-regression/assignment3_data/background_sample.csv\",sep=\",\")\n",
        "df2 = pd.read_csv(\"/content/hku_phys3151_2022/logistic-regression/assignment3_data/signal_sample.csv\",sep=\",\")\n",
        "print(df2)"
      ],
      "metadata": {
        "colab": {
          "base_uri": "https://localhost:8080/"
        },
        "id": "dWjI43B0hmJo",
        "outputId": "302faeca-7e56-42c5-eb69-05be378e20b2"
      },
      "execution_count": null,
      "outputs": [
        {
          "output_type": "stream",
          "name": "stdout",
          "text": [
            "     variable1  variable2\n",
            "0     0.396252  65.827074\n",
            "1     0.315459  95.244416\n",
            "2     0.861467 -19.072701\n",
            "3     0.785412  39.808397\n",
            "4     0.697883  76.384968\n",
            "..         ...        ...\n",
            "231   0.871332  94.729109\n",
            "232   0.812511  97.818767\n",
            "233   0.369092  98.534094\n",
            "234   0.882313  41.146300\n",
            "235   0.628656  76.787022\n",
            "\n",
            "[236 rows x 2 columns]\n"
          ]
        }
      ]
    },
    {
      "cell_type": "code",
      "source": [
        "import matplotlib.pyplot as plt\n",
        "df1 = df1.to_numpy()\n",
        "df2 = df2.to_numpy()\n",
        "x1=df1[:,0]\n",
        "y1=df1[:,1]\n",
        "x2=df2[:,0]\n",
        "y2=df2[:,1]"
      ],
      "metadata": {
        "id": "n6mwKTTslY2i"
      },
      "execution_count": null,
      "outputs": []
    },
    {
      "cell_type": "markdown",
      "source": [
        "Let's have a look at a scatter plot of these two variables, both for signal and for the background sample."
      ],
      "metadata": {
        "id": "nXRuij4JI9zY"
      }
    },
    {
      "cell_type": "code",
      "source": [
        "plt.rcParams['figure.figsize'] = (9.0, 4.0)\n",
        "plt.scatter(x1,y1, color='blue',label='Background')\n",
        "plt.scatter(x2,y2, color='red',label='Signal')\n",
        "plt.title('Distribution of Variables 1 and 2 for Two Labels', fontsize=14)\n",
        "plt.xlabel('Variable_1', fontsize=14)\n",
        "plt.ylabel('Variable_2', fontsize=14)\n",
        "plt.legend()\n",
        "plt.grid(True)\n",
        "plt.show()"
      ],
      "metadata": {
        "colab": {
          "base_uri": "https://localhost:8080/",
          "height": 300
        },
        "id": "DnowEehSl-mp",
        "outputId": "29567b6d-5d46-4eaf-b76e-fc2e74457194"
      },
      "execution_count": null,
      "outputs": [
        {
          "output_type": "display_data",
          "data": {
            "text/plain": [
              "<Figure size 648x288 with 1 Axes>"
            ],
            "image/png": "[encoded data removed]"
          },
          "metadata": {
            "needs_background": "light"
          }
        }
      ]
    },
    {
      "cell_type": "markdown",
      "source": [
        "### Logistic Regression"
      ],
      "metadata": {
        "id": "pTHhyzqcJlsx"
      }
    },
    {
      "cell_type": "markdown",
      "source": [
        "Then we define the functions we need as before."
      ],
      "metadata": {
        "id": "VZkaDeEdJZ-f"
      }
    },
    {
      "cell_type": "code",
      "source": [
        "def sigmoid(x):\n",
        "    return 1 / (1 + np.exp(-x))\n",
        "def  computeCost(theta,X,y):\n",
        "    \n",
        "    m = float(len(y))\n",
        "    \n",
        "    predictions = sigmoid(X.dot(theta))\n",
        "    cost = -(1/m) * (y.T.dot(np.log(predictions))+(1-y).T.dot(np.log(1-predictions)))\n",
        "    return cost"
      ],
      "metadata": {
        "id": "cYjpn1yJJdxF"
      },
      "execution_count": null,
      "outputs": []
    },
    {
      "cell_type": "code",
      "source": [
        "def gradient_descent(X,y,theta,alpha=0.01,iterations=100):\n",
        "    '''\n",
        "    X    = Matrix of X with added bias units\n",
        "    y    = Vector of Y\n",
        "    theta=Vector of thetas np.random.randn(j,1)\n",
        "    alpha \n",
        "    iterations = no of iterations\"\n",
        "    \n",
        "    Returns the final theta vector and array of cost history over no of iterations\n",
        "    '''\n",
        "    m = float(y.shape[0])\n",
        "    cost_history = np.zeros(iterations)\n",
        "    theta_history = np.zeros((iterations,X.shape[1]))\n",
        "    for it in range(iterations):\n",
        "        \n",
        "        prediction = sigmoid(X.dot(theta))\n",
        "        #print(prediction)\n",
        "        #print(np.dot(X.T,prediction - y))\n",
        "        theta = theta -(1/m)*alpha*(X.T.dot((prediction - y)))\n",
        "        theta_history[it,:] = theta.T\n",
        "        cost_history[it]  = computeCost(theta,X,y)\n",
        "        \n",
        "    return theta, cost_history, theta_history"
      ],
      "metadata": {
        "id": "EmZiykgdJgjT"
      },
      "execution_count": null,
      "outputs": []
    },
    {
      "cell_type": "markdown",
      "source": [
        "### Feature Scaling"
      ],
      "metadata": {
        "id": "3ylwgE1ZJpie"
      }
    },
    {
      "cell_type": "markdown",
      "source": [
        "Now, we prepare the data for computation, including feature scaling and adding a column to X to fit $\\theta$."
      ],
      "metadata": {
        "id": "jbiD-LM4JtaG"
      }
    },
    {
      "cell_type": "code",
      "source": [
        "x1 = [df1[:,0],df1[:,1]]\n",
        "x2 = [df2[:,0],df2[:,1]]\n",
        "x1 = np.array(x1)\n",
        "x2 = np.array(x2)\n",
        "x1=x1.T\n",
        "x2=x2.T\n",
        "yb=[[0]]*len(x1)\n",
        "ys=[[1]]*len(x2)\n",
        "yb = np.array(yb)\n",
        "ys = np.array(ys)\n",
        "\n",
        "x = np.vstack((x1,x2))\n",
        "y = np.vstack((yb,ys))\n",
        "y = y.reshape((len(y),1))\n",
        "n = x.shape[1]+1\n",
        "print(x)"
      ],
      "metadata": {
        "colab": {
          "base_uri": "https://localhost:8080/"
        },
        "id": "iOtxFd69Lydt",
        "outputId": "cbe2ed63-9b5e-4009-fc32-09bbd67cd2c1"
      },
      "execution_count": null,
      "outputs": [
        {
          "output_type": "stream",
          "name": "stdout",
          "text": [
            "[[ 4.44432207e-01 -2.10731496e+01]\n",
            " [ 4.39282091e-02  4.25494213e+01]\n",
            " [ 3.00236288e-01 -9.31719579e+01]\n",
            " ...\n",
            " [ 3.69091854e-01  9.85340937e+01]\n",
            " [ 8.82313101e-01  4.11462995e+01]\n",
            " [ 6.28656405e-01  7.67870219e+01]]\n"
          ]
        }
      ]
    },
    {
      "cell_type": "code",
      "source": [
        "from sklearn import preprocessing\n",
        "scaler = preprocessing.RobustScaler()\n",
        "X_scaled = scaler.fit_transform(x)\n",
        "print(X_scaled.shape)\n",
        "print(scaler)\n",
        "X = X_scaled"
      ],
      "metadata": {
        "colab": {
          "base_uri": "https://localhost:8080/"
        },
        "id": "86Sas8EDZwVy",
        "outputId": "1ce48c35-c393-4f7f-c429-9f2f0ead6944"
      },
      "execution_count": null,
      "outputs": [
        {
          "output_type": "stream",
          "name": "stdout",
          "text": [
            "(507, 2)\n",
            "RobustScaler()\n"
          ]
        }
      ]
    },
    {
      "cell_type": "code",
      "source": [
        "X_b = np.c_[np.ones((len(X),1)),X]\n",
        "theta = np.zeros((n,1))\n",
        "print(X_b)"
      ],
      "metadata": {
        "colab": {
          "base_uri": "https://localhost:8080/"
        },
        "id": "unvrVWOrZ1_d",
        "outputId": "55e6233a-0a94-440f-acd1-9b08f0c58942"
      },
      "execution_count": null,
      "outputs": [
        {
          "output_type": "stream",
          "name": "stdout",
          "text": [
            "[[ 1.         -0.00616371 -0.20262133]\n",
            " [ 1.         -0.66525498  0.37482454]\n",
            " [ 1.         -0.2434604  -0.85699853]\n",
            " ...\n",
            " [ 1.         -0.13014792  0.88294796]\n",
            " [ 1.          0.71443702  0.36208965]\n",
            " [ 1.          0.2970057   0.685569  ]]\n"
          ]
        }
      ]
    },
    {
      "cell_type": "markdown",
      "source": [
        "### Implementation"
      ],
      "metadata": {
        "id": "TDyMMVyhZ45y"
      }
    },
    {
      "cell_type": "markdown",
      "source": [
        "With the data ready, we can now implement the functions to get the coefficients(parameters) in the hypothesis."
      ],
      "metadata": {
        "id": "9IZBDNbFZ72d"
      }
    },
    {
      "cell_type": "code",
      "source": [
        "alpha =0.1\n",
        "n_iter =1000\n",
        "\n",
        "theta,cost_history,theta_history = gradient_descent(X_b,y,theta,alpha,n_iter)\n",
        "print(theta)"
      ],
      "metadata": {
        "colab": {
          "base_uri": "https://localhost:8080/"
        },
        "id": "d4tPIEmjZ-4E",
        "outputId": "21f9aaef-b52e-4a94-e6a5-f20f1ad41f64"
      },
      "execution_count": null,
      "outputs": [
        {
          "output_type": "stream",
          "name": "stdout",
          "text": [
            "[[-0.52301348]\n",
            " [ 4.83646208]\n",
            " [ 2.65997812]]\n"
          ]
        }
      ]
    },
    {
      "cell_type": "markdown",
      "source": [
        "### Decision Boundary"
      ],
      "metadata": {
        "id": "7AwLIYAoaH_5"
      }
    },
    {
      "cell_type": "code",
      "source": [
        "#y=1 Signal(yes)\n",
        "yes_x=[]\n",
        "yes_y=[]\n",
        "#y=0 Background(no)\n",
        "no_x=[]\n",
        "no_y=[]\n",
        "for i in range(0,507):\n",
        "    if y[i]==0:\n",
        "        no_x.append(X_b[i][1])\n",
        "        no_y.append(X_b[i][2])\n",
        "    else:\n",
        "        yes_x.append(X_b[i][1])\n",
        "        yes_y.append(X_b[i][2])\n",
        "\n",
        "print(X_b)"
      ],
      "metadata": {
        "colab": {
          "base_uri": "https://localhost:8080/"
        },
        "id": "LcHT-svraQ5V",
        "outputId": "447c3112-e38f-4968-f4cf-59fea6b84a06"
      },
      "execution_count": null,
      "outputs": [
        {
          "output_type": "stream",
          "name": "stdout",
          "text": [
            "[[ 1.         -0.00616371 -0.20262133]\n",
            " [ 1.         -0.66525498  0.37482454]\n",
            " [ 1.         -0.2434604  -0.85699853]\n",
            " ...\n",
            " [ 1.         -0.13014792  0.88294796]\n",
            " [ 1.          0.71443702  0.36208965]\n",
            " [ 1.          0.2970057   0.685569  ]]\n"
          ]
        }
      ]
    },
    {
      "cell_type": "code",
      "source": [
        "plt.xlabel('Variable_1(Scaled)')\n",
        "plt.ylabel('Variable_2(Scaled)')\n",
        "plt.title('Distribution of Variables 1 and 2 for Two Labels')\n",
        "xx=np.arange(-0.3,0.6,0.01)\n",
        "yy=(-4.83646208/2.65997812)*xx+(0.52301348/2.65997812)\n",
        "plt.plot(xx,yy,label='Decision Boundary',color='green' )\n",
        "plt.scatter(yes_x,yes_y,color='red',label='Signal')\n",
        "plt.scatter(no_x,no_y,color='blue',label='Background')\n",
        "plt.legend()"
      ],
      "metadata": {
        "colab": {
          "base_uri": "https://localhost:8080/",
          "height": 313
        },
        "id": "dyPttFctaf3p",
        "outputId": "9e57bdc2-6f06-4ad4-90a2-54e295c034a7"
      },
      "execution_count": null,
      "outputs": [
        {
          "output_type": "execute_result",
          "data": {
            "text/plain": [
              "<matplotlib.legend.Legend at 0x7f3e36d8c890>"
            ]
          },
          "metadata": {},
          "execution_count": 19
        },
        {
          "output_type": "display_data",
          "data": {
            "text/plain": [
              "<Figure size 648x288 with 1 Axes>"
            ],
            "image/png": "[encoded data removed]"
          },
          "metadata": {
            "needs_background": "light"
          }
        }
      ]
    },
    {
      "cell_type": "markdown",
      "source": [
        "# 3. Support vector machine"
      ],
      "metadata": {
        "id": "YuGTMP5qec2O"
      }
    },
    {
      "cell_type": "markdown",
      "source": [
        "## (a)"
      ],
      "metadata": {
        "id": "Y1Iq8eLEgCAa"
      }
    },
    {
      "cell_type": "markdown",
      "source": [
        "The normal vector is (2,3). The distance of the straight line to the origin is $\\frac{\\sqrt{13}}{13}$. The distance of $(x_{0},y_{0})$ to the line is $\\frac{|2x_{0}+3y_{0}-1|}{\\sqrt{13}}$."
      ],
      "metadata": {
        "id": "rhxOxF2LgEof"
      }
    },
    {
      "cell_type": "markdown",
      "source": [
        "## (b)"
      ],
      "metadata": {
        "id": "7WDWZO8QgqmA"
      }
    },
    {
      "cell_type": "code",
      "source": [
        "## Example 4\n",
        "#prepare data\n",
        "X=np.zeros([200,2])\n",
        "y=np.zeros(200)\n",
        "for i in range(0,100):\n",
        "    rx=500*(np.random.rand())+100\n",
        "    X[i][0]=rx\n",
        "    ry=500-rx+(np.random.rand())*2000\n",
        "    X[i][1]=ry\n",
        "    y[i]=1\n",
        "for i in range(100,200):\n",
        "    rx=-500*(np.random.rand())-100\n",
        "    X[i][0]=rx\n",
        "    ry=-(500-rx+(np.random.rand())*2000)\n",
        "    X[i][1]=ry\n",
        "    y[i]=-1"
      ],
      "metadata": {
        "id": "JGXYN7F-gx_Y"
      },
      "execution_count": null,
      "outputs": []
    },
    {
      "cell_type": "code",
      "source": [
        "#data processing\n",
        "from sklearn import preprocessing\n",
        "scaler = preprocessing.RobustScaler()\n",
        "X_scaled = scaler.fit_transform(X)\n",
        "#X_scaled = pd.DataFrame(X_scaled,columns=list(X.columns.values))\n",
        "X=X_scaled\n",
        "y = y.reshape((len(y),1))\n",
        "X_b = np.c_[np.ones((len(X),1)),X]\n",
        "n=X_b.shape[1]\n",
        "theta = np.random.random((n,1))\n",
        "print(X_b)"
      ],
      "metadata": {
        "colab": {
          "base_uri": "https://localhost:8080/"
        },
        "id": "Si5OBaeLg0bu",
        "outputId": "05d7ec93-fdce-4061-bbd1-7dbc23cb0a7d"
      },
      "execution_count": null,
      "outputs": [
        {
          "output_type": "stream",
          "name": "stdout",
          "text": [
            "[[ 1.          0.85168123  0.13435889]\n",
            " [ 1.          0.42131334  0.71652241]\n",
            " [ 1.          0.73070754  0.31715003]\n",
            " [ 1.          0.66749172  0.18850351]\n",
            " [ 1.          0.25904143  0.49646656]\n",
            " [ 1.          0.15847253  0.58332895]\n",
            " [ 1.          0.83941847  0.57241284]\n",
            " [ 1.          0.66778129  0.16322391]\n",
            " [ 1.          0.55492249  0.31213581]\n",
            " [ 1.          0.16401699  0.77120921]\n",
            " [ 1.          0.85517897  0.37617762]\n",
            " [ 1.          0.41923825  0.62444822]\n",
            " [ 1.          0.55952601  0.52097203]\n",
            " [ 1.          0.84690395  0.12603343]\n",
            " [ 1.          0.17038547  0.6232525 ]\n",
            " [ 1.          0.24558852  0.37036   ]\n",
            " [ 1.          0.23078748  0.45662694]\n",
            " [ 1.          0.17740603  0.54964697]\n",
            " [ 1.          0.44286793  0.48931317]\n",
            " [ 1.          0.35143744  0.3238553 ]\n",
            " [ 1.          0.30487383  0.58516758]\n",
            " [ 1.          0.27124608  0.46866707]\n",
            " [ 1.          0.80546557  0.74649144]\n",
            " [ 1.          0.31086196  0.21992445]\n",
            " [ 1.          0.75146632  0.63222875]\n",
            " [ 1.          0.73957532  0.53752149]\n",
            " [ 1.          0.63543693  0.31340528]\n",
            " [ 1.          0.63022134  0.18433675]\n",
            " [ 1.          0.77817815  0.52768349]\n",
            " [ 1.          0.47799167  0.80003639]\n",
            " [ 1.          0.55778128  0.77876103]\n",
            " [ 1.          0.71706408  0.4565785 ]\n",
            " [ 1.          0.34536897  0.25461256]\n",
            " [ 1.          0.19999624  0.73254396]\n",
            " [ 1.          0.48121872  0.80559592]\n",
            " [ 1.          0.32728083  0.2496021 ]\n",
            " [ 1.          0.79582415  0.49330887]\n",
            " [ 1.          0.61430182  0.67213265]\n",
            " [ 1.          0.43909892  0.59157426]\n",
            " [ 1.          0.63457172  0.24837556]\n",
            " [ 1.          0.5724803   0.68945571]\n",
            " [ 1.          0.75671506  0.1618786 ]\n",
            " [ 1.          0.69189388  0.39836522]\n",
            " [ 1.          0.19102404  0.27528311]\n",
            " [ 1.          0.30360676  0.83746464]\n",
            " [ 1.          0.86502006  0.4231115 ]\n",
            " [ 1.          0.28128628  0.27344544]\n",
            " [ 1.          0.28214724  0.53822749]\n",
            " [ 1.          0.21912384  0.59540441]\n",
            " [ 1.          0.54820731  0.43519108]\n",
            " [ 1.          0.60230108  0.20474338]\n",
            " [ 1.          0.30768954  0.30663624]\n",
            " [ 1.          0.71497963  0.5864858 ]\n",
            " [ 1.          0.61905044  0.38572341]\n",
            " [ 1.          0.37236879  0.37946421]\n",
            " [ 1.          0.4743047   0.40873128]\n",
            " [ 1.          0.8287013   0.42986268]\n",
            " [ 1.          0.45706505  0.4935287 ]\n",
            " [ 1.          0.88236815  0.38844358]\n",
            " [ 1.          0.31419086  0.64392829]\n",
            " [ 1.          0.49977577  0.75331206]\n",
            " [ 1.          0.73322059  0.23599823]\n",
            " [ 1.          0.15218707  0.68786472]\n",
            " [ 1.          0.32445866  0.39194625]\n",
            " [ 1.          0.3297277   0.29418391]\n",
            " [ 1.          0.84244517  0.18603465]\n",
            " [ 1.          0.61678103  0.67898357]\n",
            " [ 1.          0.80233507  0.68221305]\n",
            " [ 1.          0.75716906  0.2287111 ]\n",
            " [ 1.          0.33526513  0.83377522]\n",
            " [ 1.          0.24408517  0.67856919]\n",
            " [ 1.          0.70458051  0.37914912]\n",
            " [ 1.          0.25819782  0.22482119]\n",
            " [ 1.          0.7157846   0.70188101]\n",
            " [ 1.          0.55133152  0.22884571]\n",
            " [ 1.          0.412174    0.76341745]\n",
            " [ 1.          0.40695418  0.81412506]\n",
            " [ 1.          0.24614664  0.53758214]\n",
            " [ 1.          0.34589186  0.75686884]\n",
            " [ 1.          0.58487158  0.37333004]\n",
            " [ 1.          0.87605798  0.46327198]\n",
            " [ 1.          0.25825758  0.81438225]\n",
            " [ 1.          0.88221173  0.68958784]\n",
            " [ 1.          0.20404954  0.69471223]\n",
            " [ 1.          0.22400264  0.37774186]\n",
            " [ 1.          0.37714429  0.51595197]\n",
            " [ 1.          0.34933756  0.23418832]\n",
            " [ 1.          0.52492735  0.46985785]\n",
            " [ 1.          0.56060456  0.42828325]\n",
            " [ 1.          0.71103541  0.39342612]\n",
            " [ 1.          0.56152197  0.35823965]\n",
            " [ 1.          0.51193749  0.63451874]\n",
            " [ 1.          0.50206231  0.7615046 ]\n",
            " [ 1.          0.33498669  0.3659629 ]\n",
            " [ 1.          0.37647201  0.84214876]\n",
            " [ 1.          0.72858892  0.52573751]\n",
            " [ 1.          0.68009637  0.46551143]\n",
            " [ 1.          0.51170391  0.32472494]\n",
            " [ 1.          0.65172804  0.18259953]\n",
            " [ 1.          0.8810208   0.70445342]\n",
            " [ 1.         -0.88470152 -0.82521863]\n",
            " [ 1.         -0.71068181 -0.62411421]\n",
            " [ 1.         -0.83624323 -0.58386058]\n",
            " [ 1.         -0.28333025 -0.1434879 ]\n",
            " [ 1.         -0.53175117 -0.22845478]\n",
            " [ 1.         -0.54944211 -0.39844095]\n",
            " [ 1.         -0.33822599 -0.50873701]\n",
            " [ 1.         -0.15736541 -0.65091441]\n",
            " [ 1.         -0.31920279 -0.18896521]\n",
            " [ 1.         -0.7783631  -0.27299478]\n",
            " [ 1.         -0.20404202 -0.12603343]\n",
            " [ 1.         -0.56703149 -0.73442091]\n",
            " [ 1.         -0.849899   -0.2889016 ]\n",
            " [ 1.         -0.20465379 -0.54212348]\n",
            " [ 1.         -0.34327434 -0.42457798]\n",
            " [ 1.         -0.84712951 -0.45319912]\n",
            " [ 1.         -0.57285332 -0.52847586]\n",
            " [ 1.         -0.18077618 -0.30480359]\n",
            " [ 1.         -0.72381951 -0.36668852]\n",
            " [ 1.         -0.47986867 -0.57997995]\n",
            " [ 1.         -0.64722213 -0.81507218]\n",
            " [ 1.         -0.6403426  -0.37172858]\n",
            " [ 1.         -0.85652091 -0.63958373]\n",
            " [ 1.         -0.81170304 -0.75601638]\n",
            " [ 1.         -0.7988893  -0.42688441]\n",
            " [ 1.         -0.50967873 -0.37123541]\n",
            " [ 1.         -0.80633722 -0.68684779]\n",
            " [ 1.         -0.21210388 -0.40349174]\n",
            " [ 1.         -0.81229638 -0.7069494 ]\n",
            " [ 1.         -0.84857073 -0.35746922]\n",
            " [ 1.         -0.59791305 -0.1968979 ]\n",
            " [ 1.         -0.37023905 -0.54572964]\n",
            " [ 1.         -0.22075576 -0.65478396]\n",
            " [ 1.         -0.27478291 -0.64770259]\n",
            " [ 1.         -0.26085434 -0.6446718 ]\n",
            " [ 1.         -0.28807485 -0.6055167 ]\n",
            " [ 1.         -0.35060551 -0.51050875]\n",
            " [ 1.         -0.86235079 -0.70917624]\n",
            " [ 1.         -0.23309595 -0.55975813]\n",
            " [ 1.         -0.80863486 -0.4560013 ]\n",
            " [ 1.         -0.81147652 -0.41221477]\n",
            " [ 1.         -0.83399006 -0.49897779]\n",
            " [ 1.         -0.32084326 -0.36378065]\n",
            " [ 1.         -0.35573979 -0.60976215]\n",
            " [ 1.         -0.67625511 -0.64529201]\n",
            " [ 1.         -0.35307381 -0.66632396]\n",
            " [ 1.         -0.48820193 -0.37280441]\n",
            " [ 1.         -0.17499396 -0.17553537]\n",
            " [ 1.         -0.22826387 -0.18960048]\n",
            " [ 1.         -0.41456251 -0.18878636]\n",
            " [ 1.         -0.4914204  -0.61308825]\n",
            " [ 1.         -0.86540994 -0.57598288]\n",
            " [ 1.         -0.27468949 -0.14387441]\n",
            " [ 1.         -0.58772215 -0.83282337]\n",
            " [ 1.         -0.76164596 -0.67998801]\n",
            " [ 1.         -0.34991676 -0.32695342]\n",
            " [ 1.         -0.18893051 -0.50953494]\n",
            " [ 1.         -0.33798218 -0.33036859]\n",
            " [ 1.         -0.86678238 -0.57175172]\n",
            " [ 1.         -0.45704881 -0.70082001]\n",
            " [ 1.         -0.29250553 -0.53871335]\n",
            " [ 1.         -0.87042504 -0.52549291]\n",
            " [ 1.         -0.57674408 -0.61314663]\n",
            " [ 1.         -0.29410136 -0.71566717]\n",
            " [ 1.         -0.37824066 -0.79658074]\n",
            " [ 1.         -0.69887038 -0.4895041 ]\n",
            " [ 1.         -0.19383818 -0.58187797]\n",
            " [ 1.         -0.7377658  -0.50620693]\n",
            " [ 1.         -0.48379162 -0.22536997]\n",
            " [ 1.         -0.63253385 -0.19737655]\n",
            " [ 1.         -0.41769259 -0.7914438 ]\n",
            " [ 1.         -0.42486193 -0.69510253]\n",
            " [ 1.         -0.20335847 -0.60647185]\n",
            " [ 1.         -0.17437676 -0.41988737]\n",
            " [ 1.         -0.68470092 -0.58814265]\n",
            " [ 1.         -0.34767263 -0.54460232]\n",
            " [ 1.         -0.53153003 -0.57670972]\n",
            " [ 1.         -0.86318883 -0.37715811]\n",
            " [ 1.         -0.50778123 -0.74843677]\n",
            " [ 1.         -0.48834502 -0.75862356]\n",
            " [ 1.         -0.8247144  -0.58113223]\n",
            " [ 1.         -0.84740322 -0.46629118]\n",
            " [ 1.         -0.23178551 -0.57634812]\n",
            " [ 1.         -0.68153434 -0.79869329]\n",
            " [ 1.         -0.26530243 -0.49008166]\n",
            " [ 1.         -0.346345   -0.15012891]\n",
            " [ 1.         -0.15218707 -0.66382326]\n",
            " [ 1.         -0.87936349 -0.59612986]\n",
            " [ 1.         -0.79899669 -0.58023844]\n",
            " [ 1.         -0.88466031 -0.43474357]\n",
            " [ 1.         -0.20751134 -0.75219068]\n",
            " [ 1.         -0.67626871 -0.32943579]\n",
            " [ 1.         -0.39293797 -0.24005133]\n",
            " [ 1.         -0.3261433  -0.21806463]\n",
            " [ 1.         -0.72020707 -0.2894447 ]\n",
            " [ 1.         -0.41881864 -0.16546973]\n",
            " [ 1.         -0.61354746 -0.56131907]\n",
            " [ 1.         -0.40531063 -0.46236097]\n",
            " [ 1.         -0.26053168 -0.68661029]\n",
            " [ 1.         -0.21465263 -0.41481948]]\n"
          ]
        }
      ]
    },
    {
      "cell_type": "code",
      "source": [
        "def hinge(X_b,y,theta):                        #for maximum-margin classification\n",
        "    pred = 1 - np.multiply(y,(X_b.dot(theta)))\n",
        "    loss = np.maximum(np.zeros(pred.shape),pred)\n",
        "    hinge = np.sum(loss)\n",
        "    return hinge\n",
        "\n",
        "def computeCost(X_b,y,theta,reg):\n",
        "    m = float(len(y))\n",
        "    theta2 = np.square(theta)\n",
        "    cost = (reg/(2*m)) * np.sum(theta2) + (1/m) * hinge(X_b,y,theta)\n",
        "    return cost\n",
        "\n",
        "def check(X_b,y,theta):\n",
        "    \n",
        "    fx = np.multiply(y,(X_b.dot(theta)))\n",
        "    \n",
        "    check = np.less(fx,np.ones(fx.shape))\n",
        "    \n",
        "    check = np.where(check==True,1,0)\n",
        "    \n",
        "    return check\n",
        "\n",
        "def subgradient_descent(X_b,y,theta,iterations,reg2):\n",
        "    '''\n",
        "    X    = Matrix of X\n",
        "    y    = Vector of Y\n",
        "    theta=Vector of thetas np.random.randn(j,1)\n",
        "    iterations = no of iterations\n",
        "    \n",
        "    Returns the final theta vector and array of cost history over no of iterations\n",
        "    '''\n",
        "    m = float(y.shape[0])\n",
        "    \n",
        "    cost_history = np.zeros(iterations)\n",
        "    \n",
        "    theta_history = np.zeros((iterations,X_b.shape[1]))\n",
        "    \n",
        "    for it in range(iterations):\n",
        "        alpha = 0.001\n",
        "        #print(X_b.shape)\n",
        "        #print(X_b.dot(theta).shape)\n",
        "        #print(np.multiply(y,(X_b.dot(theta))).shape)\n",
        "        #print(y.shape)\n",
        "        theta = theta + alpha*((np.multiply(check(X_b,y,theta),y)).T.dot(X_b)).T\n",
        "        theta[1:] = theta[1:] - alpha*reg2*theta[1:]\n",
        "        theta_history[it,:] = theta.T\n",
        "        cost_history[it]  = computeCost(X_b,y,theta,reg)\n",
        "        \n",
        "    return theta, cost_history, theta_history"
      ],
      "metadata": {
        "id": "twKf9FGeg4j9"
      },
      "execution_count": null,
      "outputs": []
    },
    {
      "cell_type": "code",
      "source": [
        "reg2 = 0\n",
        "reg = 0\n",
        "n_iter = 500000\n",
        "theta,cost_history,theta_history = subgradient_descent(X_b,y,theta,n_iter,reg2)\n",
        "print(theta)"
      ],
      "metadata": {
        "colab": {
          "base_uri": "https://localhost:8080/"
        },
        "id": "4uLWhArrg9Fq",
        "outputId": "1b0ce091-c5af-4318-cd3c-5a914c5125ce"
      },
      "execution_count": null,
      "outputs": [
        {
          "output_type": "stream",
          "name": "stdout",
          "text": [
            "[[-0.16103394]\n",
            " [ 2.63405535]\n",
            " [ 2.39295286]]\n"
          ]
        }
      ]
    },
    {
      "cell_type": "code",
      "source": [
        "#y=1 admitted(yes)\n",
        "yes_x=[]\n",
        "yes_y=[]\n",
        "#y=0 not admitted(no)\n",
        "no_x=[]\n",
        "no_y=[]\n",
        "for i in range(0,200):\n",
        "    if y[i]== -1:\n",
        "        no_x.append(X_b[i][1])\n",
        "        no_y.append(X_b[i][2])\n",
        "    else:\n",
        "        yes_x.append(X_b[i][1])\n",
        "        yes_y.append(X_b[i][2])\n",
        "plt.figure(figsize=(8,5))\n",
        "plt.xlabel('1st Exam(Scaled)')\n",
        "plt.ylabel('2nd Exam(Scaled)')\n",
        "plt.title('Decision Boundary')\n",
        "x=np.arange(-0.75,0.75,0.01)\n",
        "y1=(-theta[1]/theta[2])*x+(-theta[0]/theta[2])#=0\n",
        "y2=(-theta[1]/theta[2])*x+((-theta[0]-1)/theta[2])#=-1\n",
        "y3=(-theta[1]/theta[2])*x+((-theta[0]+1)/theta[2])#=1\n",
        "plt.plot(x,y1,label=r'$\\theta$X=0',color='yellow' )\n",
        "plt.plot(x,y2,label=r'$\\theta$X=-1',linestyle='--',color='gray' )\n",
        "plt.plot(x,y3,label=r'$\\theta$X=1',linestyle='--' ,color='green')\n",
        "plt.scatter(yes_x,yes_y,label='1st type')\n",
        "plt.scatter(no_x,no_y,label='2nd type')\n",
        "plt.legend()"
      ],
      "metadata": {
        "colab": {
          "base_uri": "https://localhost:8080/",
          "height": 367
        },
        "id": "QV6jZ8QJg_iC",
        "outputId": "e6174d97-f4a1-4d77-acd7-06da430a8558"
      },
      "execution_count": null,
      "outputs": [
        {
          "output_type": "execute_result",
          "data": {
            "text/plain": [
              "<matplotlib.legend.Legend at 0x7f3e36c9ea50>"
            ]
          },
          "metadata": {},
          "execution_count": 27
        },
        {
          "output_type": "display_data",
          "data": {
            "text/plain": [
              "<Figure size 576x360 with 1 Axes>"
            ],
            "image/png": "[encoded data removed]"
          },
          "metadata": {
            "needs_background": "light"
          }
        }
      ]
    },
    {
      "cell_type": "markdown",
      "source": [
        "## (c)"
      ],
      "metadata": {
        "id": "r5FKdGb9hO0b"
      }
    },
    {
      "cell_type": "markdown",
      "source": [
        "### Support vector machine"
      ],
      "metadata": {
        "id": "cm113t81iRFW"
      }
    },
    {
      "cell_type": "code",
      "source": [
        "import pandas as pd\n",
        "import matplotlib.pyplot as plt\n",
        "\n",
        "df = pd.read_csv('/content/hku_phys3151_2022/support-vector-machine/Iris.csv')\n",
        "df = df.drop(['Id'],axis=1)\n",
        "target = df['Species']\n",
        "s = set()\n",
        "for val in target:\n",
        "    s.add(val)\n",
        "s = list(s)\n",
        "rows = list(range(50,100))\n",
        "df = df.drop(df.index[rows])"
      ],
      "metadata": {
        "id": "aPZKQ1a-hUrC"
      },
      "execution_count": null,
      "outputs": []
    },
    {
      "cell_type": "code",
      "source": [
        "x = df['PetalLengthCm']\n",
        "y = df['PetalWidthCm']\n",
        "\n",
        "setosa_x = x[:50]\n",
        "setosa_y = y[:50]\n",
        "\n",
        "versicolor_x = x[50:]\n",
        "versicolor_y = y[50:]\n",
        "\n",
        "plt.figure(figsize=(10,8))\n",
        "plt.scatter(setosa_x, setosa_y, marker='H', color='blue')\n",
        "plt.scatter(versicolor_x, versicolor_y, marker='D', color='red')\n",
        "plt.show()"
      ],
      "metadata": {
        "colab": {
          "base_uri": "https://localhost:8080/",
          "height": 483
        },
        "id": "pBhjhQe-hcLW",
        "outputId": "e1c70b63-97c5-486b-f7fc-c425a9670981"
      },
      "execution_count": null,
      "outputs": [
        {
          "output_type": "display_data",
          "data": {
            "text/plain": [
              "<Figure size 720x576 with 1 Axes>"
            ],
            "image/png": "[encoded data removed]"
          },
          "metadata": {
            "needs_background": "light"
          }
        }
      ]
    },
    {
      "cell_type": "code",
      "source": [
        "from sklearn.utils import shuffle\n",
        "from sklearn.model_selection import train_test_split\n",
        "import numpy as np\n",
        "\n",
        "## Drop the other two features and extract the target values\n",
        "\n",
        "df = df.drop(['SepalLengthCm','SepalWidthCm'],axis=1)\n",
        "Y = []\n",
        "target = df['Species']\n",
        "for val in target:\n",
        "    if(val == 'Iris-setosa'):\n",
        "        Y.append(-1)\n",
        "    else:\n",
        "        Y.append(1)\n",
        "df = df.drop(['Species'],axis=1)\n",
        "X = df.values.tolist()\n",
        "\n",
        "## Shuffle and split the data into training and testing set\n",
        "X, Y = shuffle(X,Y)\n",
        "x_train = []\n",
        "y_train = []\n",
        "x_test = []\n",
        "y_test = []\n",
        "\n",
        "x_train, x_test, y_train, y_test = train_test_split(X, Y, train_size=0.8)\n",
        "\n",
        "x_train = np.array(x_train)\n",
        "y_train = np.array(y_train)\n",
        "x_test = np.array(x_test)\n",
        "y_test = np.array(y_test)\n",
        "\n",
        "y_train = y_train.reshape(80,1)\n",
        "y_test = y_test.reshape(20,1)"
      ],
      "metadata": {
        "id": "ikyV8VUaheob"
      },
      "execution_count": null,
      "outputs": []
    },
    {
      "cell_type": "code",
      "source": [
        "# start the gradient descent\n",
        "\n",
        "train_f1 = x_train[:,0]\n",
        "train_f2 = x_train[:,1]\n",
        "\n",
        "train_f0 = np.ones((80,1))\n",
        "train_f1 = train_f1.reshape(80,1)\n",
        "train_f2 = train_f2.reshape(80,1)\n",
        "\n",
        "w1 = np.zeros((80,1))\n",
        "w2 = np.zeros((80,1))\n",
        "w0 = np.zeros((80,1))\n",
        "\n",
        "epochs = 1\n",
        "alpha = 0.01\n",
        "\n",
        "while (epochs < 50000):\n",
        "    y = w1 * train_f1 + w2 * train_f2 - w0\n",
        "    prod = y * y_train\n",
        " #   print(epochs)\n",
        "    count = 0\n",
        "    for val in prod:\n",
        "        if (val >= 1):\n",
        "            cost = 0\n",
        "            w0 = w0\n",
        "            w1 = w1 - alpha * (2 * 1/epochs * w1)\n",
        "            w2 = w2 - alpha * (2 * 1/epochs * w2)\n",
        "        else:\n",
        "            cost = 1 - val\n",
        "            w0 = w0 - alpha * (train_f0[count] * y_train[count])\n",
        "            w1 = w1 + alpha * (train_f1[count] * y_train[count] - 2 * 1/epochs * w1)\n",
        "            w2 = w2 + alpha * (train_f2[count] * y_train[count] - 2 * 1/epochs * w2)\n",
        "        count += 1\n",
        "    epochs += 1"
      ],
      "metadata": {
        "id": "ceFMvtbrhhnb"
      },
      "execution_count": null,
      "outputs": []
    },
    {
      "cell_type": "code",
      "source": [
        "plt.figure(figsize=(10,8))\n",
        "plt.scatter(setosa_x, setosa_y, marker='H', color='blue',label='Iris-setosa')\n",
        "plt.scatter(versicolor_x, versicolor_y, marker='D', color='red',label='Iris-virginica')\n",
        "x = np.arange(1.0,7.5,0.1)\n",
        "y = -(w1[-1]/w2[-1])*x + w0[-1]/w2[-1]\n",
        "y1 = -(w1[-1]/w2[-1])*x + (1 + w0[-1])/w2[-1]\n",
        "y2 = -(w1[-1]/w2[-1])*x + (-1 + w0[-1])/w2[-1]\n",
        "plt.plot(x,y,label='optimal hyperplane', color = 'Green')\n",
        "plt.plot(x,y1,label='upper margin', color = 'k')\n",
        "plt.plot(x,y2,label='lower margin', color = 'm')\n",
        "plt.legend()\n",
        "plt.xlabel('PetalLengthCm')\n",
        "plt.ylabel('PetalWidthCm')\n",
        "plt.title('Iris classification')\n",
        "plt.show()"
      ],
      "metadata": {
        "colab": {
          "base_uri": "https://localhost:8080/",
          "height": 513
        },
        "id": "j9CijvZNhkSH",
        "outputId": "f2ee763a-0e0a-488a-c549-e3d8d3ed5b09"
      },
      "execution_count": null,
      "outputs": [
        {
          "output_type": "display_data",
          "data": {
            "text/plain": [
              "<Figure size 720x576 with 1 Axes>"
            ],
            "image/png": "[encoded data removed]"
          },
          "metadata": {
            "needs_background": "light"
          }
        }
      ]
    },
    {
      "cell_type": "code",
      "source": [
        "print(w0[-1],w1[-1],w2[-1])"
      ],
      "metadata": {
        "colab": {
          "base_uri": "https://localhost:8080/"
        },
        "id": "KZmuDTPqhm8J",
        "outputId": "12af60a0-d019-444d-ce28-51be039f479b"
      },
      "execution_count": null,
      "outputs": [
        {
          "output_type": "stream",
          "name": "stdout",
          "text": [
            "[2.4] [0.65456776] [0.32729683]\n"
          ]
        }
      ]
    },
    {
      "cell_type": "markdown",
      "source": [
        "### Logistic regression"
      ],
      "metadata": {
        "id": "WD3bs-wNhvI3"
      }
    },
    {
      "cell_type": "code",
      "source": [
        "X_b = np.c_[np.ones((len(X),1)),X]\n",
        "for i in range(len(Y)):\n",
        "    if Y[i]==-1:\n",
        "        Y[i]=0\n",
        "theta = np.zeros((3,1))\n",
        "Y=np.array(Y)\n",
        "Y=Y.reshape((len(Y),1))"
      ],
      "metadata": {
        "id": "o899Fx8ghyG6"
      },
      "execution_count": null,
      "outputs": []
    },
    {
      "cell_type": "code",
      "source": [
        "def sigmoid(x):\n",
        "    return 1 / (1 + np.exp(-x))\n",
        "def  computeCost(theta,X,y):\n",
        "    \n",
        "    m = float(len(y))\n",
        "    \n",
        "    predictions = sigmoid(X.dot(theta))\n",
        "    cost = -(1/m) * (y.T.dot(np.log(predictions))+(1-y).T.dot(np.log(1-predictions)))\n",
        "    return cost\n",
        "def gradient_descent(X,y,theta,alpha=0.01,iterations=100):\n",
        "    '''\n",
        "    X    = Matrix of X with added bias units\n",
        "    y    = Vector of Y\n",
        "    theta=Vector of thetas np.random.randn(j,1)\n",
        "    alpha \n",
        "    iterations = no of iterations\"\n",
        "    \n",
        "    Returns the final theta vector and array of cost history over no of iterations\n",
        "    '''\n",
        "    m = float(y.shape[0])\n",
        "    cost_history = np.zeros(iterations)\n",
        "    theta_history = np.zeros((iterations,X.shape[1]))\n",
        "    for it in range(iterations):\n",
        "        \n",
        "        prediction = sigmoid(X.dot(theta))\n",
        "        #print(prediction)\n",
        "        #print(np.dot(X.T,prediction - y))\n",
        "        theta = theta -(1/m)*alpha*(X.T.dot((prediction - y)))\n",
        "        theta_history[it,:] = theta.T\n",
        "        cost_history[it]  = computeCost(theta,X,y)\n",
        "        \n",
        "    return theta, cost_history, theta_history"
      ],
      "metadata": {
        "id": "za_dwEqeh0QU"
      },
      "execution_count": null,
      "outputs": []
    },
    {
      "cell_type": "code",
      "source": [
        "alpha =0.01\n",
        "n_iter =50000\n",
        "\n",
        "theta,cost_history,theta_history = gradient_descent(X_b,Y,theta,alpha,n_iter)\n",
        "print(theta)"
      ],
      "metadata": {
        "colab": {
          "base_uri": "https://localhost:8080/"
        },
        "id": "dGQhm8nih2Ny",
        "outputId": "02dac26a-fea7-47f2-e0fd-b674ff07359d"
      },
      "execution_count": null,
      "outputs": [
        {
          "output_type": "stream",
          "name": "stdout",
          "text": [
            "[[-7.53113711]\n",
            " [ 1.33876586]\n",
            " [ 3.29192864]]\n"
          ]
        }
      ]
    },
    {
      "cell_type": "code",
      "source": [
        "#y=1 Iris-virginica(yes)\n",
        "yes_x=[]\n",
        "yes_y=[]\n",
        "#y=0 Iris-setosa(no)\n",
        "no_x=[]\n",
        "no_y=[]\n",
        "for i in range(0,65):\n",
        "    if Y[i]==0:\n",
        "        no_x.append(X_b[i][1])\n",
        "        no_y.append(X_b[i][2])\n",
        "    else:\n",
        "        yes_x.append(X_b[i][1])\n",
        "        yes_y.append(X_b[i][2])"
      ],
      "metadata": {
        "id": "pkXA0e9Lh77b"
      },
      "execution_count": null,
      "outputs": []
    },
    {
      "cell_type": "code",
      "source": [
        "plt.xlabel('PetalLengthCm')\n",
        "plt.ylabel('PetalWidthCm')\n",
        "plt.title('Iris classification')\n",
        "x=np.arange(0,7,0.01)\n",
        "y=(-theta[1][0]/theta[2][0])*x+(-theta[0][0]/theta[2][0])\n",
        "plt.plot(x,y,label='Decision Boundary',color='green' )\n",
        "plt.scatter(yes_x,yes_y,label='Iris-virginica',c='r')\n",
        "plt.scatter(no_x,no_y,label='Iris-setosa',c='b')\n",
        "plt.legend()"
      ],
      "metadata": {
        "colab": {
          "base_uri": "https://localhost:8080/",
          "height": 312
        },
        "id": "knjWvY26iA0b",
        "outputId": "8fa99768-7fb0-4d67-8f3d-21f6a24b366a"
      },
      "execution_count": null,
      "outputs": [
        {
          "output_type": "execute_result",
          "data": {
            "text/plain": [
              "<matplotlib.legend.Legend at 0x7f3e36476d50>"
            ]
          },
          "metadata": {},
          "execution_count": 38
        },
        {
          "output_type": "display_data",
          "data": {
            "text/plain": [
              "<Figure size 432x288 with 1 Axes>"
            ],
            "image/png": "[encoded data removed]"
          },
          "metadata": {
            "needs_background": "light"
          }
        }
      ]
    }
  ]
}