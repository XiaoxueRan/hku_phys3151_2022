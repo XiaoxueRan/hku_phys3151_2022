{
  "nbformat": 4,
  "nbformat_minor": 0,
  "metadata": {
    "colab": {
      "name": "to model and reveal the force of gravity.ipynb",
      "provenance": [],
      "include_colab_link": true
    },
    "kernelspec": {
      "name": "python3",
      "display_name": "Python 3"
    },
    "language_info": {
      "name": "python"
    }
  },
  "cells": [
    {
      "cell_type": "markdown",
      "metadata": {
        "id": "view-in-github",
        "colab_type": "text"
      },
      "source": [
        "<a href=\"https://colab.research.google.com/github/XiaoxueRan/hku_phys3151_2022/blob/main/multivariate-linear-regression/to_model_and_reveal_the_force_of_gravity.ipynb\" target=\"_parent\"><img src=\"https://colab.research.google.com/assets/colab-badge.svg\" alt=\"Open In Colab\"/></a>"
      ]
    },
    {
      "cell_type": "markdown",
      "source": [
        "# Using polynomial regression to model and reveal the force of gravity"
      ],
      "metadata": {
        "id": "aqWz9kqbl9YX"
      }
    },
    {
      "cell_type": "markdown",
      "source": [
        "We will take a look at a simple example: the force of gravity on a falling object. The formula for the location of a falling object is:\n",
        "\n",
        "\\begin{eqnarray}\n",
        "y=X_{0}+V_{0}t-\\frac{1}{2}gt^{2}\n",
        "\\end{eqnarray}\n",
        "\n",
        "where $X_{0}$ is the initial location of the object, i.e. its initial height.\n",
        "$V_{0}$ is the initial velocity (or speed) of the object when it is at this initial position. $t$ is the time after the object was dropped. $g$ is the force of gravity, which is an acceleration of approximately 9.8 $m/s^{2}$. This is actually a constant not a variable like all of the others (unless we are dropping an object on different planets, which are not). It is negative because the force of gravity is downward, from a positive location value toward zero."
      ],
      "metadata": {
        "id": "nXL58ogzmONQ"
      }
    },
    {
      "cell_type": "markdown",
      "source": [
        "First, we will create a Python function to calculate the location of a falling object"
      ],
      "metadata": {
        "id": "jo98J0Dro2yc"
      }
    },
    {
      "cell_type": "code",
      "source": [
        "def location(x_0, v_0, t):\n",
        "    return x_0 + v_0*t - (9.8/2)*t**2"
      ],
      "metadata": {
        "id": "qWUscPHgo6Yq"
      },
      "execution_count": 1,
      "outputs": []
    },
    {
      "cell_type": "markdown",
      "source": [
        "Next, we use this function to create a dataset and save it in a CSV file"
      ],
      "metadata": {
        "id": "B4tnqItmpCii"
      }
    },
    {
      "cell_type": "code",
      "source": [
        "import csv\n",
        "import random\n",
        "import math\n",
        "random.seed\n",
        "with open('gravity_location_data.csv', mode='w') as gravity_file:\n",
        "    gravity_writer = csv.writer(gravity_file, delimiter=',', quotechar='\"', quoting=csv.QUOTE_MINIMAL)\n",
        "    gravity_writer.writerow(['initial_position', 'initial_velocity', 'time','mass', 'location'])\n",
        "    for i in range (0, 1000):\n",
        "        initial_position = random.uniform(0,1)\n",
        "        initial_velocity = random.uniform(0,1)\n",
        "        mass = random.uniform(0,1)\n",
        "        time = random.uniform(0,1)\n",
        "        gravity_writer.writerow([initial_position, initial_velocity, time,  mass,location(initial_position, initial_velocity, time)])"
      ],
      "metadata": {
        "id": "nMhKhvw3pHpY"
      },
      "execution_count": 14,
      "outputs": []
    },
    {
      "cell_type": "markdown",
      "source": [
        "What we are doing here is creating 1,000 examples, using randomized values for all of our variables, then calculating the location at a certain (randomly selected) time."
      ],
      "metadata": {
        "id": "TmFDIoOgpOLH"
      }
    },
    {
      "cell_type": "code",
      "source": [
        "import numpy as np\n",
        "import matplotlib.pyplot as plt\n",
        "import pandas as pd\n",
        "df = pd.read_csv('/content/gravity_location_data.csv')\n",
        "print(df)"
      ],
      "metadata": {
        "id": "Hx52Kebbp7Wc",
        "outputId": "ed3ae3d5-9dd0-4553-9401-472b99e6f1d2",
        "colab": {
          "base_uri": "https://localhost:8080/"
        }
      },
      "execution_count": 15,
      "outputs": [
        {
          "output_type": "stream",
          "name": "stdout",
          "text": [
            "     initial_position  initial_velocity      time      mass  location\n",
            "0            0.533090          0.048620  0.607983  0.905983 -1.248604\n",
            "1            0.002639          0.331107  0.131520  0.078990 -0.038571\n",
            "2            0.233262          0.222736  0.744692  0.080277 -2.318241\n",
            "3            0.471962          0.535944  0.798402  0.728929 -2.223621\n",
            "4            0.384696          0.171004  0.339185  0.838424 -0.121030\n",
            "..                ...               ...       ...       ...       ...\n",
            "995          0.268329          0.122245  0.344809  0.300161 -0.272098\n",
            "996          0.908396          0.585577  0.044055  0.197436  0.924684\n",
            "997          0.956854          0.758896  0.589454  0.588445 -0.298344\n",
            "998          0.634797          0.961209  0.111899  0.328446  0.681000\n",
            "999          0.904549          0.222712  0.992584  0.715973 -3.701983\n",
            "\n",
            "[1000 rows x 5 columns]\n"
          ]
        }
      ]
    },
    {
      "cell_type": "code",
      "source": [
        "df['initial_velocity_time']=df['initial_velocity']*df['time']\n",
        "df['time^2']=df['time']*df['time']\n",
        "print(df)"
      ],
      "metadata": {
        "id": "G9Q75xxHwtqY",
        "outputId": "66dab30a-931f-4100-eab0-a8f3056f6a9d",
        "colab": {
          "base_uri": "https://localhost:8080/"
        }
      },
      "execution_count": 16,
      "outputs": [
        {
          "output_type": "stream",
          "name": "stdout",
          "text": [
            "     initial_position  initial_velocity  ...  initial_velocity_time    time^2\n",
            "0            0.533090          0.048620  ...               0.029560  0.369644\n",
            "1            0.002639          0.331107  ...               0.043547  0.017298\n",
            "2            0.233262          0.222736  ...               0.165870  0.554566\n",
            "3            0.471962          0.535944  ...               0.427899  0.637445\n",
            "4            0.384696          0.171004  ...               0.058002  0.115047\n",
            "..                ...               ...  ...                    ...       ...\n",
            "995          0.268329          0.122245  ...               0.042151  0.118894\n",
            "996          0.908396          0.585577  ...               0.025797  0.001941\n",
            "997          0.956854          0.758896  ...               0.447334  0.347456\n",
            "998          0.634797          0.961209  ...               0.107558  0.012521\n",
            "999          0.904549          0.222712  ...               0.221061  0.985223\n",
            "\n",
            "[1000 rows x 7 columns]\n"
          ]
        }
      ]
    },
    {
      "cell_type": "markdown",
      "source": [
        "Next, we scale the data"
      ],
      "metadata": {
        "id": "9OUYH7aIyIJL"
      }
    },
    {
      "cell_type": "code",
      "source": [
        "df = df.to_numpy()\n",
        "x = [df[:,0],df[:,5],df[:,6],df[:,3]]\n",
        "y = [df[:,4]]\n",
        "x = np.array(x)\n",
        "print(x)\n",
        "x = x.T\n",
        "y = np.array(y)\n",
        "y = y.T\n",
        "#print(y)"
      ],
      "metadata": {
        "id": "6NRbgEH3wGcW",
        "outputId": "c7f2c9d1-8988-40ea-e450-66fdbfb0fc5e",
        "colab": {
          "base_uri": "https://localhost:8080/"
        }
      },
      "execution_count": 18,
      "outputs": [
        {
          "output_type": "stream",
          "name": "stdout",
          "text": [
            "[[0.5330902  0.0026392  0.23326214 ... 0.95685445 0.63479683 0.90454909]\n",
            " [0.02956021 0.04354726 0.16586954 ... 0.44733397 0.10755818 0.22106084]\n",
            " [0.3696437  0.01729752 0.55456585 ... 0.34745561 0.01252134 0.98522312]\n",
            " [0.90598326 0.07898996 0.08027666 ... 0.5884453  0.32844571 0.71597345]]\n"
          ]
        }
      ]
    },
    {
      "cell_type": "markdown",
      "source": [
        "Now, we define functions for cost funciton and gradient descent.\n",
        "The hypothesis is \n",
        "$$y=\\theta_{0}+\\theta_{1}X_{0}+\\theta_{2}V_{0}t+\\theta_{3}t^{2}+\\theta_{4}m$$"
      ],
      "metadata": {
        "id": "Prd7EH5T0XqZ"
      }
    },
    {
      "cell_type": "code",
      "source": [
        "def  computeCost(theta,X,y):\n",
        "    m = float(len(y))\n",
        "    \n",
        "    predictions = X.dot(theta)\n",
        "    cost = (1/(2*m)) * np.sum(np.square(predictions-y))\n",
        "    return cost"
      ],
      "metadata": {
        "id": "mU_Rqzl00UU0"
      },
      "execution_count": 19,
      "outputs": []
    },
    {
      "cell_type": "code",
      "source": [
        "def gradient_descent(X,y,theta,alpha,iterations):\n",
        "    m = float(len(y))\n",
        "    cost_history = np.zeros(iterations)\n",
        "    theta_history = np.zeros((iterations,5))\n",
        "    for it in range(iterations):\n",
        "        \n",
        "        prediction = np.dot(X,theta)\n",
        "        theta = theta -(1/m)*alpha*( X.T.dot((prediction - y)))\n",
        "        theta_history[it,:] = theta.T\n",
        "        cost_history[it]  = computeCost(theta,X,y)\n",
        "        \n",
        "    return theta, cost_history, theta_history"
      ],
      "metadata": {
        "id": "UHUgK7hy0grw"
      },
      "execution_count": 20,
      "outputs": []
    },
    {
      "cell_type": "code",
      "source": [
        "alpha =0.1\n",
        "n_iter = 10000\n",
        "\n",
        "theta = np.random.randn(5,1)\n",
        "print(theta)\n",
        "x_b = np.c_[np.ones((len(x),1)),x]\n",
        "#print(x_b)\n",
        "print(computeCost(theta,x_b,y))\n",
        "\n",
        "theta,cost_history,theta_history = gradient_descent(x_b,y,theta,alpha,n_iter)\n",
        "\n",
        "print('Theta0:          {:0.3f},\\nTheta1:          {:0.3f},\\nTheta2:          {:0.3f},\\nTheta3:          {:0.3f},\\nTheta4:          {:0.3f}'.format(theta[0][0],theta[1][0],theta[2][0],theta[3][0],theta[4][0]))\n",
        "print('Final cost/MSE:  {:0.3f}'.format(cost_history[-1]))\n",
        "\n",
        "plt.plot(cost_history)\n",
        "plt.xlabel(\"Iteration\")\n",
        "plt.ylabel(\"$J(\\Theta)$\")\n",
        "plt.title(\"Cost function using Gradient Descent\")"
      ],
      "metadata": {
        "id": "mIl42aua0m-6",
        "outputId": "d0fdfd10-f77e-4208-d1b3-a8e1bd39571f",
        "colab": {
          "base_uri": "https://localhost:8080/",
          "height": 516
        }
      },
      "execution_count": 21,
      "outputs": [
        {
          "output_type": "stream",
          "name": "stdout",
          "text": [
            "[[-0.29016162]\n",
            " [-0.88686641]\n",
            " [-0.55183065]\n",
            " [-1.90035781]\n",
            " [ 0.53949509]]\n",
            "0.47177114351381866\n",
            "Theta0:          0.000,\n",
            "Theta1:          1.000,\n",
            "Theta2:          1.000,\n",
            "Theta3:          -4.900,\n",
            "Theta4:          0.000\n",
            "Final cost/MSE:  0.000\n"
          ]
        },
        {
          "output_type": "execute_result",
          "data": {
            "text/plain": [
              "Text(0.5, 1.0, 'Cost function using Gradient Descent')"
            ]
          },
          "metadata": {},
          "execution_count": 21
        },
        {
          "output_type": "display_data",
          "data": {
            "image/png": "[encoded data removed]",
            "text/plain": [
              "<Figure size 432x288 with 1 Axes>"
            ]
          },
          "metadata": {
            "needs_background": "light"
          }
        }
      ]
    },
    {
      "cell_type": "markdown",
      "source": [
        "This gives us coefficients correspond to each of the three features from above. The first value from our array ( 1.00000000e+00, or 1) is the coefficient on “initial_position”. And in fact, in our original equation, we have the initial velocity ($X_{0}$) with a coefficient of one. \n",
        "\n",
        "The second in our list is also a coefficient of 1, which corresponds to ‘initial_velocity time,’ or initial velocity multiplied by time. Again, we have this factor in our original equation, which appears as $V_{0}t$. \n",
        "\n",
        "Finally, the very last value is -4.9, which is the coefficient corresponding to ‘time ^ 2.’ Note that this also appears in our original equation as $\\frac{1}{2}gt^{2}$. But we said earlier that $g$ is approximately 9.8, and $-\\frac{1}{2} * 9.8 = -4.9$. So this also corresponds with our original equation."
      ],
      "metadata": {
        "id": "VkqwE4eXsBLE"
      }
    },
    {
      "cell_type": "code",
      "source": [
        "for i in range (0,5):\n",
        "    j = random.randint(0,1000)\n",
        "    x_0 = df[j,0]\n",
        "    v_0 = df[j,1]\n",
        "    t =df[j,3]\n",
        "    time =  np.linspace(0,1,100)\n",
        "    y_grad = x_0+v_0*time-4.9*time**2\n",
        "    plt.scatter(t, df[j,4])   #plot data points\n",
        "    plt.plot(time,y_grad)     #plot fitting curve\n",
        "\n",
        "plt.title(' Location of a falling object vs Time', fontsize=14)\n",
        "plt.xlabel('Time', fontsize=14)\n",
        "plt.ylabel('Location', fontsize=14)\n",
        "plt.legend(loc='lower left')\n",
        "plt.grid(True)\n",
        "plt.xlim(0,1)\n",
        "plt.show()"
      ],
      "metadata": {
        "id": "YnyWJCBg2t6c",
        "outputId": "89caafea-7fe8-467a-c1c9-5cdf86d76f98",
        "colab": {
          "base_uri": "https://localhost:8080/",
          "height": 317
        }
      },
      "execution_count": null,
      "outputs": [
        {
          "output_type": "stream",
          "name": "stderr",
          "text": [
            "No handles with labels found to put in legend.\n"
          ]
        },
        {
          "output_type": "display_data",
          "data": {
            "image/png": "[encoded data removed]",
            "text/plain": [
              "<Figure size 432x288 with 1 Axes>"
            ]
          },
          "metadata": {
            "needs_background": "light"
          }
        }
      ]
    },
    {
      "cell_type": "markdown",
      "source": [
        "The dots in the above figure is randomly selected “time” data in the example file. And the curves are ploted with coeffcients we obtained using gradient descent."
      ],
      "metadata": {
        "id": "9oCc946wQEuL"
      }
    }
  ]
}